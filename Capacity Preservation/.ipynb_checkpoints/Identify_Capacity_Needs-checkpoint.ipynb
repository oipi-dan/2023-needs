{
 "cells": [
  {
   "cell_type": "markdown",
   "id": "cfe0f1a9",
   "metadata": {},
   "source": [
    "# Capacity Preservation #\n",
    "This script calculates the capacity preservation needs for CoSS and RN.  This VTrans Need Category focuses on the need for proactive measures to strike a balance between access and mobility and is identified as roadway segments within RNs or along CoSS that are also included in VDOT's Arterial Preservation Network."
   ]
  },
  {
   "cell_type": "code",
   "execution_count": 1,
   "id": "67aa9474",
   "metadata": {},
   "outputs": [],
   "source": [
    "import arcpy\n",
    "import os\n",
    "import pandas as pd\n",
    "\n",
    "arcpy.env.overwriteOutput = True"
   ]
  },
  {
   "cell_type": "markdown",
   "id": "0d851d2d",
   "metadata": {},
   "source": [
    "### Collect required datasets ###\n",
    "\n",
    "The following datasets and output geodatabases are required\n",
    "1. Paths to two geodatabases.  If they don't exist yet, they will be created\n",
    "    * intermediate_gdb\n",
    "    * output_gdb\n",
    "\n",
    "#### The following line feature classes must have LRS fields as \"RTE_NM\", \"BEGIN_MSR\", and \"END_MSR\" ####\n",
    "2. A feature class of the Arterial Preservation Network (APN) (Note: Must have segments in both directions)\n",
    "3. A feature class of the Corridors of Statewide Significance (CoSS)\n",
    "4. A feature class of the Regional Networks (RN)\n",
    "\n",
    "5. A copy of the overlap LRS"
   ]
  },
  {
   "cell_type": "code",
   "execution_count": 29,
   "id": "15d65172",
   "metadata": {},
   "outputs": [],
   "source": [
    "# Paths to intermediate and output geodatabases\n",
    "intermediate_gdb = r\"C:\\Users\\daniel.fourquet\\Documents\\Tasks\\VTrans Update\\Mid-Term Needs\\Capacity Preservation\\data\\intermediate.gdb\"\n",
    "output_gdb = r\"C:\\Users\\daniel.fourquet\\Documents\\Tasks\\VTrans Update\\Mid-Term Needs\\Capacity Preservation\\data\\output.gdb\"\n",
    "\n",
    "# Create gdbs if do not exist\n",
    "for gdb_path in [intermediate_gdb, output_gdb]:\n",
    "    if os.path.exists(os.path.dirname(gdb_path)):\n",
    "        if not os.path.exists(gdb_path):\n",
    "            arcpy.management.CreateFileGDB(os.path.dirname(gdb_path), os.path.basename(gdb_path))\n",
    "    else:\n",
    "        raise Exception(f'Path for GDB does not exist: \\n{os.path.dirname(gdb_path)}')\n",
    "\n",
    "# Paths to input layers\n",
    "APN = r'C:\\Users\\daniel.fourquet\\Documents\\Tasks\\VTrans Update\\Mid-Term Needs\\Capacity Preservation\\data\\data.gdb\\apn'\n",
    "CoSS = r'C:\\Users\\daniel.fourquet\\Documents\\Tasks\\VTrans Update\\Mid-Term Needs\\A1 - Common Datasets\\Common_Datasets.gdb\\tbl_coss_2023'\n",
    "RN = r'C:\\Users\\daniel.fourquet\\Documents\\Tasks\\VTrans Update\\Mid-Term Needs\\A1 - Common Datasets\\Common_Datasets.gdb\\tbl_regional_networks'\n",
    "LRS = r'C:\\Users\\daniel.fourquet\\Documents\\ArcGIS\\LRS.gdb\\SDE_VDOT_RTE_OVERLAP_LRS_DY'"
   ]
  },
  {
   "cell_type": "markdown",
   "id": "81f30c10",
   "metadata": {},
   "source": [
    "### Prepare event table overlapping CoSS, RN, and APN ###\n",
    "\n",
    "First the input layers are combined to create a single event table."
   ]
  },
  {
   "cell_type": "code",
   "execution_count": 3,
   "id": "246d1ddb",
   "metadata": {},
   "outputs": [
    {
     "data": {
      "text/html": [
       "<div class='gpresult'><h2>Messages</h2><div id='messages' data-messages='[\"Start Time: Thursday, July 27, 2023 9:34:12 AM\",\"Succeeded at Thursday, July 27, 2023 9:34:29 AM (Elapsed Time: 17.23 seconds)\"]' data-show='true'><div id = 'default' /></div></div>"
      ],
      "text/plain": [
       "<Result 'C:\\\\Users\\\\daniel.fourquet\\\\Documents\\\\Tasks\\\\VTrans Update\\\\Mid-Term Needs\\\\Capacity Preservation\\\\data\\\\intermediate.gdb\\\\tbl_apn_coss_rn'>"
      ]
     },
     "execution_count": 3,
     "metadata": {},
     "output_type": "execute_result"
    }
   ],
   "source": [
    "# Create event tables from input feature classes\n",
    "tbl_apn = arcpy.TableToTable_conversion(APN, intermediate_gdb, 'tbl_apn')\n",
    "tbl_coss = arcpy.TableToTable_conversion(CoSS, intermediate_gdb, 'tbl_coss')\n",
    "tbl_rn = arcpy.TableToTable_conversion(RN, intermediate_gdb, 'tbl_rn')\n",
    "\n",
    "# These tables should have a field ('APN', 'COSS', or 'RN') that is equal to 1 to indicate\n",
    "# that a given segment belongs to that network\n",
    "def add_field(layer, field_name):\n",
    "    field_names = [field.name for field in arcpy.ListFields()]\n",
    "    if field_name in field_names:\n",
    "        print(f'{field_name} already exists')\n",
    "        return\n",
    "    else:\n",
    "        arcpy.AddField_management(layer, field_name, 'SHORT')\n",
    "        with arcpy.da.UpdateCursor(layer, field_name) as cur:\n",
    "            for row in cur:\n",
    "                row[0] = 1\n",
    "                cur.updateRow(row)\n",
    "        print(f'{field_name} added to table')\n",
    "\n",
    "# Overlap APN with CoSS\n",
    "arcpy.lr.OverlayRouteEvents(\n",
    "        tbl_apn,\n",
    "        'RTE_NM; LINE; BEGIN_MSR; END_MSR',\n",
    "        tbl_coss, \n",
    "        \"RTE_NM; Line; BEGIN_MSR; END_MSR\",\n",
    "        'UNION', \n",
    "        os.path.join(intermediate_gdb, 'tbl_apn_coss'),\n",
    "        'RTE_NM; LINE; BEGIN_MSR; END_MSR',\n",
    "        \"NO_ZERO\",\n",
    "        \"FIELDS\", \n",
    "        \"INDEX\")\n",
    "\n",
    "# Overlap APN and CoSS with RN\n",
    "arcpy.lr.OverlayRouteEvents(\n",
    "        os.path.join(intermediate_gdb, 'tbl_apn_coss'),\n",
    "        'RTE_NM; LINE; BEGIN_MSR; END_MSR',\n",
    "        tbl_rn, \n",
    "        \"RTE_NM; Line; BEGIN_MSR; END_MSR\",\n",
    "        'UNION', \n",
    "        os.path.join(intermediate_gdb, 'tbl_apn_coss_rn'),\n",
    "        'RTE_NM; LINE; BEGIN_MSR; END_MSR',\n",
    "        \"NO_ZERO\",\n",
    "        \"FIELDS\", \n",
    "        \"INDEX\")\n"
   ]
  },
  {
   "cell_type": "markdown",
   "id": "6591b81d",
   "metadata": {},
   "source": [
    "### Identify capacity preservation needs ###\n",
    "Roadway segments within RNs or along the CoSS, and included in VDOT’s Arterial Preservation Network, are identified as those with a VTrans Mid-term Need for Capacity Preservation.  The below code will clean up the event table created above and use it to identify segments that are identified as having a capacity preservation need."
   ]
  },
  {
   "cell_type": "code",
   "execution_count": 39,
   "id": "ee5924a6",
   "metadata": {},
   "outputs": [],
   "source": [
    "# Create dataframe with only needed fields\n",
    "fields_to_keep = [\n",
    "    'RTE_NM',\n",
    "    'BEGIN_MSR',\n",
    "    'END_MSR',\n",
    "    'APN',\n",
    "    'RN',\n",
    "    'COSS'\n",
    "]\n",
    "\n",
    "tbl_apn_coss_rn = os.path.join(intermediate_gdb, 'tbl_apn_coss_rn')\n",
    "df = pd.DataFrame([row for row in arcpy.da.SearchCursor(tbl_apn_coss_rn, fields_to_keep)], columns=fields_to_keep)\n",
    "\n",
    "# Add and calculate capcity preservation needs fields:\n",
    "# CoSS and APN\n",
    "df['CoSS_Capacity_Preservation'] = 'NO'\n",
    "df.loc[(df['APN'] == 1) & (df['COSS'] == 1), 'CoSS_Capacity_Preservation'] = 'YES'\n",
    "\n",
    "# RN and APN\n",
    "df['RN_Capacity_Preservation'] = 'NO'\n",
    "df.loc[(df['APN'] == 1) & (df['RN'] == 1), 'RN_Capacity_Preservation'] = 'YES'\n",
    "\n",
    "# Add Segment_ID and RTE_COMMON_NAME fields.  These will be calculated later\n",
    "df['Segment_ID'] = None\n",
    "df['RTE_COMMON_NM'] = None\n",
    "\n",
    "# Place fields in order specified in schema sheet\n",
    "df = df[['Segment_ID', 'RTE_NM', 'RTE_COMMON_NM', 'BEGIN_MSR', 'END_MSR', 'CoSS_Capacity_Preservation', 'RN_Capacity_Preservation']]\n",
    "\n",
    "# Only keep records where at least one need is located\n",
    "df = df.loc[(df['CoSS_Capacity_Preservation'] == 'YES') | (df['RN_Capacity_Preservation'] == 'YES')]\n",
    "\n",
    "output_csv = os.path.join(os.path.dirname(intermediate_gdb), 'output.csv')\n",
    "df.to_csv(output_csv, index=False)"
   ]
  },
  {
   "cell_type": "markdown",
   "id": "edae229b",
   "metadata": {},
   "source": [
    "### Make route event layer ###"
   ]
  },
  {
   "cell_type": "code",
   "execution_count": 41,
   "id": "10ea7751",
   "metadata": {},
   "outputs": [
    {
     "data": {
      "text/html": [
       "<div class='gpresult'><h2>Messages</h2><div id='messages' data-messages='[\"Start Time: Thursday, July 27, 2023 2:29:46 PM\",\"Succeeded at Thursday, July 27, 2023 2:29:49 PM (Elapsed Time: 3.60 seconds)\"]' data-show='true'><div id = 'default' /></div></div>"
      ],
      "text/plain": [
       "<Result 'C:\\\\Users\\\\daniel.fourquet\\\\Documents\\\\Tasks\\\\VTrans Update\\\\Mid-Term Needs\\\\Capacity Preservation\\\\data\\\\output.gdb\\\\tbl_capaciy_preservation'>"
      ]
     },
     "execution_count": 41,
     "metadata": {},
     "output_type": "execute_result"
    }
   ],
   "source": [
    "# Make route event layer\n",
    "arcpy.lr.MakeRouteEventLayer(LRS, \"RTE_NM\", output_csv, \"RTE_NM; Line; BEGIN_MSR; END_MSR\", \"tbl_capaciy_preservation Events\", None, \"NO_ERROR_FIELD\", \"NO_ANGLE_FIELD\", \"NORMAL\", \"ANGLE\", \"LEFT\", \"POINT\")\n",
    "arcpy.conversion.FeatureClassToFeatureClass(\"tbl_capaciy_preservation Events\", output_gdb, \"tbl_capaciy_preservation\")"
   ]
  },
  {
   "cell_type": "code",
   "execution_count": null,
   "id": "1f54de51",
   "metadata": {},
   "outputs": [],
   "source": []
  }
 ],
 "metadata": {
  "kernelspec": {
   "display_name": "Python 3",
   "language": "python",
   "name": "python3"
  },
  "language_info": {
   "codemirror_mode": {
    "name": "ipython",
    "version": 3
   },
   "file_extension": ".py",
   "mimetype": "text/x-python",
   "name": "python",
   "nbconvert_exporter": "python",
   "pygments_lexer": "ipython3",
   "version": "3.7.11"
  }
 },
 "nbformat": 4,
 "nbformat_minor": 5
}
