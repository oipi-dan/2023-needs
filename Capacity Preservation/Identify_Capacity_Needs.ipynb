{
 "cells": [
  {
   "cell_type": "markdown",
   "id": "38a1101c",
   "metadata": {},
   "source": [
    "# Need Category: Capacity Preservation #\n",
    "\n",
    "**Measure**: VDOT Arterial Preservation Network or the state-maintained portion of the National Highway System in Virginia and including some additional highways that facilitate connectivity.\n",
    "\n",
    "**What it means**: This VTrans Need Category focuses on the need for proactive measures to strike a balance between access and mobility.\n",
    "\n",
    "**Applicable VTrans Travel Markets**: CoSS, RN\n",
    "\n",
    "**Data Sources**:\n",
    "1. VDOT, TMPD - Arterial Preservation Network\n",
    "\n",
    "**Year of analysis**: 2023"
   ]
  },
  {
   "cell_type": "markdown",
   "id": "7ce36551",
   "metadata": {},
   "source": [
    "### Calculations ###\n",
    "1. Identify roadway segments included in VDOT's Arterial Preservation Network\n",
    "2. **Threshold for Need for Capacity Preservation**: Roadway segments within RNs or along CoSS and included in VDOT's Arterial Preservation Network are identified as those with a VTrans Mid-term Need for Capacity Preservation."
   ]
  },
  {
   "cell_type": "markdown",
   "id": "c34acf15",
   "metadata": {},
   "source": [
    "### Code ###"
   ]
  },
  {
   "cell_type": "code",
   "execution_count": 2,
   "id": "19eee27c",
   "metadata": {},
   "outputs": [],
   "source": [
    "import arcpy\n",
    "import os\n",
    "import pandas as pd\n",
    "\n",
    "arcpy.env.overwriteOutput = True\n",
    "\n",
    "\n",
    "main_path = os.path.dirname(os.path.dirname(os.path.abspath(__file__)))\n",
    "common_datasets_gdb = os.path.join(main_path, r'A1 - Common Datasets\\Common_Datasets.gdb')"
   ]
  },
  {
   "cell_type": "markdown",
   "id": "49f4c1df",
   "metadata": {},
   "source": [
    "#### Collect required datasets ####\n",
    "\n",
    "The following line feature classes must have LRS fields as \"RTE_NM\", \"BEGIN_MSR\", and \"END_MSR\":\n",
    "\n",
    "1. APN - A feature class of the Arterial Preservation Network (APN) (Note: Must have segments in both directions)\n",
    "2. CoSS - A feature class of the Corridors of Statewide Significance (CoSS)\n",
    "3. RN - A feature class of the Regional Networks (RN)\n",
    "\n",
    "4. LRS - A copy of the overlap LRS"
   ]
  },
  {
   "cell_type": "code",
   "execution_count": 10,
   "id": "f8e28549",
   "metadata": {},
   "outputs": [],
   "source": [
    "# Paths to intermediate and output geodatabases\n",
    "intermediate_gdb = f\"{main_path}\\\\A1 - Common Datasets\\\\Capacity Preservation\\\\data\\\\intermediate.gdb\"\n",
    "output_gdb = f\"{main_path}\\\\A1 - Common Datasets\\\\Capacity Preservation\\\\data\\\\output.gdb\"\n",
    "\n",
    "# Create gdbs if do not exist\n",
    "for gdb_path in [intermediate_gdb, output_gdb]:\n",
    "    if os.path.exists(os.path.dirname(gdb_path)):\n",
    "        if not os.path.exists(gdb_path):\n",
    "            arcpy.management.CreateFileGDB(os.path.dirname(gdb_path), os.path.basename(gdb_path))\n",
    "    else:\n",
    "        raise Exception(f'Path for GDB does not exist: \\n{os.path.dirname(gdb_path)}')\n",
    "\n",
    "# Paths to input layers\n",
    "APN = f'{main_path}\\\\A1 - Common Datasets\\\\Capacity Preservation\\data\\data.gdb\\\\apn'\n",
    "CoSS = f'{common_datasets_gdb}\\\\tbl_coss_2023'\n",
    "RN = f'{common_datasets_gdb}\\\\tbl_regional_networks'\n",
    "LRS = f'{common_datasets_gdb}\\\\SDE_VDOT_RTE_OVERLAP_LRS_DY'"
   ]
  },
  {
   "cell_type": "markdown",
   "id": "cec58ae9",
   "metadata": {},
   "source": [
    "### Prepare event table overlapping CoSS, RN, and APN ###\n",
    "\n",
    "First the input layers are combined to create a single event table."
   ]
  },
  {
   "cell_type": "code",
   "execution_count": 13,
   "id": "dedcbf5c",
   "metadata": {},
   "outputs": [
    {
     "data": {
      "text/html": [
       "<div class='gpresult'><h2>Messages</h2><div id='messages' data-messages='[\"Start Time: Wednesday, November 22, 2023 9:51:04 AM\",\"Succeeded at Wednesday, November 22, 2023 9:51:24 AM (Elapsed Time: 19.77 seconds)\"]' data-show='true'><div id = 'default' /></div></div>"
      ],
      "text/plain": [
       "<Result 'c:\\\\Users\\\\daniel.fourquet\\\\Documents\\\\Tasks\\\\VTrans Update\\\\Mid-Term Needs\\\\Capacity Preservation\\\\data\\\\intermediate.gdb\\\\tbl_apn_coss_rn'>"
      ]
     },
     "execution_count": 13,
     "metadata": {},
     "output_type": "execute_result"
    }
   ],
   "source": [
    "# Create event tables from input feature classes\n",
    "tbl_apn = arcpy.TableToTable_conversion(APN, intermediate_gdb, 'tbl_apn')\n",
    "tbl_coss = arcpy.TableToTable_conversion(CoSS, intermediate_gdb, 'tbl_coss')\n",
    "tbl_rn = arcpy.TableToTable_conversion(RN, intermediate_gdb, 'tbl_rn')\n",
    "\n",
    "# These tables should have a field ('APN', 'COSS', or 'RN') that is equal to 1 to indicate\n",
    "# that a given segment belongs to that network\n",
    "def add_field(layer, field_name):\n",
    "    field_names = [field.name for field in arcpy.ListFields()]\n",
    "    if field_name in field_names:\n",
    "        print(f'{field_name} already exists')\n",
    "        return\n",
    "    else:\n",
    "        arcpy.AddField_management(layer, field_name, 'SHORT')\n",
    "        with arcpy.da.UpdateCursor(layer, field_name) as cur:\n",
    "            for row in cur:\n",
    "                row[0] = 1\n",
    "                cur.updateRow(row)\n",
    "        print(f'{field_name} added to table')\n",
    "\n",
    "# Overlap APN with CoSS\n",
    "arcpy.lr.OverlayRouteEvents(\n",
    "        tbl_apn,\n",
    "        'RTE_NM; LINE; BEGIN_MSR; END_MSR',\n",
    "        tbl_coss, \n",
    "        \"RTE_NM; Line; BEGIN_MSR; END_MSR\",\n",
    "        'UNION', \n",
    "        os.path.join(intermediate_gdb, 'tbl_apn_coss'),\n",
    "        'RTE_NM; LINE; BEGIN_MSR; END_MSR',\n",
    "        \"NO_ZERO\",\n",
    "        \"FIELDS\", \n",
    "        \"INDEX\")\n",
    "\n",
    "# Overlap APN and CoSS with RN\n",
    "arcpy.lr.OverlayRouteEvents(\n",
    "        os.path.join(intermediate_gdb, 'tbl_apn_coss'),\n",
    "        'RTE_NM; LINE; BEGIN_MSR; END_MSR',\n",
    "        tbl_rn, \n",
    "        \"RTE_NM; Line; BEGIN_MSR; END_MSR\",\n",
    "        'UNION', \n",
    "        os.path.join(intermediate_gdb, 'tbl_apn_coss_rn'),\n",
    "        'RTE_NM; LINE; BEGIN_MSR; END_MSR',\n",
    "        \"NO_ZERO\",\n",
    "        \"FIELDS\", \n",
    "        \"INDEX\")\n"
   ]
  },
  {
   "cell_type": "markdown",
   "id": "45cce115",
   "metadata": {},
   "source": [
    "### Identify capacity preservation needs ###\n",
    "Roadway segments within RNs or along the CoSS, and included in VDOT’s Arterial Preservation Network, are identified as those with a VTrans Mid-term Need for Capacity Preservation.  The below code will clean up the event table created above and use it to identify segments that are identified as having a capacity preservation need."
   ]
  },
  {
   "cell_type": "code",
   "execution_count": null,
   "id": "2d20c10c",
   "metadata": {},
   "outputs": [],
   "source": [
    "# Create dataframe with only needed fields\n",
    "fields_to_keep = [\n",
    "    'RTE_NM',\n",
    "    'BEGIN_MSR',\n",
    "    'END_MSR',\n",
    "    'APN',\n",
    "    'RN',\n",
    "    'COSS'\n",
    "]\n",
    "\n",
    "tbl_apn_coss_rn = os.path.join(intermediate_gdb, 'tbl_apn_coss_rn')\n",
    "df = pd.DataFrame([row for row in arcpy.da.SearchCursor(tbl_apn_coss_rn, fields_to_keep)], columns=fields_to_keep)\n",
    "\n",
    "# Add and calculate capcity preservation needs fields:\n",
    "# CoSS and APN\n",
    "df['CoSS_Capacity_Preservation'] = 'NO'\n",
    "df.loc[(df['APN'] == 1) & (df['COSS'] == 1), 'CoSS_Capacity_Preservation'] = 'YES'\n",
    "\n",
    "# RN and APN\n",
    "df['RN_Capacity_Preservation'] = 'NO'\n",
    "df.loc[(df['APN'] == 1) & (df['RN'] == 1), 'RN_Capacity_Preservation'] = 'YES'\n",
    "\n",
    "# Place fields in order specified in schema sheet\n",
    "df = df[['RTE_NM', 'BEGIN_MSR', 'END_MSR', 'CoSS_Capacity_Preservation', 'RN_Capacity_Preservation']]\n",
    "\n",
    "# Only keep records where at least one need is located\n",
    "df = df.loc[(df['CoSS_Capacity_Preservation'] == 'YES') | (df['RN_Capacity_Preservation'] == 'YES')]\n"
   ]
  },
  {
   "cell_type": "markdown",
   "id": "3363e2b9",
   "metadata": {},
   "source": [
    "#### Create output event table and layer ####"
   ]
  },
  {
   "cell_type": "code",
   "execution_count": null,
   "id": "83d5735a",
   "metadata": {},
   "outputs": [
    {
     "data": {
      "text/html": [
       "<div class='gpresult'><h2>Messages</h2><div id='messages' data-messages='[\"Start Time: Tuesday, November 21, 2023 2:59:05 PM\",\"Succeeded at Tuesday, November 21, 2023 2:59:10 PM (Elapsed Time: 4.99 seconds)\"]' data-show='true'><div id = 'default' /></div></div>"
      ],
      "text/plain": [
       "<Result 'C:\\\\Users\\\\daniel.fourquet\\\\Documents\\\\Tasks\\\\VTrans Update\\\\Mid-Term Needs\\\\Capacity Preservation\\\\data\\\\output.gdb\\\\Capacity_Preservation'>"
      ]
     },
     "execution_count": 5,
     "metadata": {},
     "output_type": "execute_result"
    }
   ],
   "source": [
    "output_csv = os.path.join(os.path.dirname(intermediate_gdb), 'output.csv')\n",
    "df.to_csv(output_csv, index=False)\n",
    "\n",
    "# Make gdb event table\n",
    "arcpy.TableToTable_conversion(output_csv, output_gdb, 'tbl_capacity_preservation')\n",
    "\n",
    "# Make route event layer\n",
    "arcpy.lr.MakeRouteEventLayer(LRS, \"RTE_NM\", output_csv, \"RTE_NM; Line; BEGIN_MSR; END_MSR\", \"tbl_capacity_preservation Events\", None, \"NO_ERROR_FIELD\", \"NO_ANGLE_FIELD\", \"NORMAL\", \"ANGLE\", \"LEFT\", \"POINT\")\n",
    "arcpy.conversion.FeatureClassToFeatureClass(\"tbl_capacity_preservation Events\", output_gdb, \"Capacity_Preservation\")"
   ]
  }
 ],
 "metadata": {
  "kernelspec": {
   "display_name": "Python 3.7.11 64-bit ('arcgispro-py3')",
   "language": "python",
   "name": "python3"
  },
  "language_info": {
   "codemirror_mode": {
    "name": "ipython",
    "version": 3
   },
   "file_extension": ".py",
   "mimetype": "text/x-python",
   "name": "python",
   "nbconvert_exporter": "python",
   "pygments_lexer": "ipython3",
   "version": "3.7.11"
  },
  "vscode": {
   "interpreter": {
    "hash": "ce21b655b4d6c9e397d5ad93d5666c623f49909f6d0cc2f72076dafcf1b3ecfb"
   }
  }
 },
 "nbformat": 4,
 "nbformat_minor": 5
}
