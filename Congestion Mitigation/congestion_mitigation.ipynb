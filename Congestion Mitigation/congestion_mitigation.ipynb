{
 "cells": [
  {
   "cell_type": "markdown",
   "metadata": {},
   "source": [
    "# Need Category: Congestion Mitigation #\n",
    "\n",
    "**Measure**: Percent Person Miles Traveled in Excessively Congested Conditions (PECC) and Travel Time Index (TTI)\n",
    "\n",
    "**What it means (PECC)**: Percent of the total person-miles traveled (PMT) that takes place in conditions deemed as excessively congested (observed speed 75% or less of the posted speed limit). A higher number indicates more person-miles traveled are impacted by excessively congested conditions.\n",
    "\n",
    "**What it means (TTI)**: The Travel Time Index is the ratio of the travel time during the peak period to the time required to make the same trip at reference (a.k.a typical) speeds. A higher number indicates more congestion.\n",
    "\n",
    "**Applicable VTrans Travel Markets**: CoSS, RN\n",
    "\n",
    "**Year of analysis**: 2022"
   ]
  },
  {
   "cell_type": "markdown",
   "metadata": {},
   "source": [
    "### Code ###\n",
    "\n",
    "Steps 1-10 on page 17 of the technical guide were completed separately to create the PECC data found in PECC_2022.csv.  Steps 1-5 on page 18 of the technical guide were completed separately to create the TTI data found in 2022_TTI_WA.csv.  The code below brings these performance measures together and assigns needs to the LRS."
   ]
  },
  {
   "cell_type": "code",
   "execution_count": 1,
   "metadata": {},
   "outputs": [],
   "source": [
    "import arcpy\n",
    "import os\n",
    "import pandas as pd\n",
    "\n",
    "arcpy.env.overwriteOutput = True\n",
    "\n",
    "\n",
    "main_path = os.path.dirname(os.path.dirname(os.path.abspath(__file__)))\n",
    "common_datasets_gdb = os.path.join(main_path, r'A1 - Common Datasets\\Common_Datasets.gdb')"
   ]
  },
  {
   "cell_type": "code",
   "execution_count": 2,
   "metadata": {},
   "outputs": [],
   "source": [
    "# Paths to intermediate and output geodatabases\n",
    "intermediate_gdb = f'{main_path}\\\\A1 - Common Datasets\\\\Congestion Mitigation\\\\data\\\\intermediate.gdb'\n",
    "output_gdb = f'{main_path}\\\\A1 - Common Datasets\\\\Congestion Mitigation\\\\data\\\\output.gdb'\n",
    "\n",
    "# Create gdbs if do not exist\n",
    "for gdb_path in [intermediate_gdb, output_gdb]:\n",
    "    if os.path.exists(os.path.dirname(gdb_path)):\n",
    "        if not os.path.exists(gdb_path):\n",
    "            arcpy.management.CreateFileGDB(os.path.dirname(gdb_path), os.path.basename(gdb_path))\n",
    "    else:\n",
    "        raise Exception(f'Path for GDB does not exist: \\n{os.path.dirname(gdb_path)}')\n",
    "\n",
    "# Paths to input layers\n",
    "CoSS = f'{common_datasets_gdb}\\\\tbl_coss_2023'\n",
    "RN = f'{common_datasets_gdb}\\\\tbl_regional_networks'\n",
    "LA = f'{common_datasets_gdb}\\\\tbl_limited_access'\n",
    "\n",
    "# Overlap LRS\n",
    "LRS = f'{common_datasets_gdb}\\\\SDE_VDOT_RTE_OVERLAP_LRS_DY'\n",
    "MasterLRS = f'{common_datasets_gdb}\\\\SDE_VDOT_RTE_MASTER_LRS_DY'\n",
    "TMC_LRS = f'{common_datasets_gdb}\\\\tbl_tmc_lrs_2023_master'\n",
    "\n",
    "# Performance Measures\n",
    "PECC = f'{main_path}\\\\A1 - Common Datasets\\\\Congestion Mitigation\\\\data\\\\PECC_2022.csv'\n",
    "TTI = f'{main_path}\\\\A1 - Common Datasets\\\\Congestion Mitigation\\\\data\\\\2022_TTI_WA.csv'"
   ]
  },
  {
   "cell_type": "code",
   "execution_count": 3,
   "metadata": {},
   "outputs": [],
   "source": [
    "\n",
    "# Load PECC data\n",
    "df_pecc = pd.read_csv(PECC, usecols=['TMC', 'Final Weight']).rename(columns={'TMC': 'tmc'})\n",
    "\n",
    "# Convert PECC weight from string to number\n",
    "df_pecc['PECC_Weight'] = df_pecc['Final Weight'].str[:-1]\n",
    "df_pecc.drop('Final Weight', axis=1, inplace=True)\n",
    "\n",
    "\n",
    "# Load TTI data\n",
    "df_tti = pd.read_csv(TTI, usecols=['tmc', 'F22SHrGT13', 'F22SHrGT15'])\n",
    "\n",
    "\n",
    "# Join PECC data to TMC layer by TMC\n",
    "df_pecc_tti = df_pecc.merge(df_tti, 'outer', on='tmc')\n",
    "\n",
    "# TTI should be ignored where PECC is available\n",
    "df_pecc_tti.loc[df_pecc_tti['PECC_Weight'].notnull(), ['F22SHrGT13', 'F22SHrGT15']] = pd.NA\n",
    "\n",
    "\n",
    "# Join TTI data to TMC layer by TMC\n",
    "tmc_fields = ['tmc', 'rte_nm', 'begin_msr', 'end_msr']\n",
    "df_tmc = pd.DataFrame([row for row in arcpy.da.SearchCursor(TMC_LRS, tmc_fields)], columns=tmc_fields)\n",
    "df_tmc_pecc_tti = df_tmc.merge(df_pecc_tti, 'outer', on='tmc')\n",
    "df_tmc_pecc_tti.rename(columns={'rte_nm': 'RTE_NM', 'begin_msr': 'BEGIN_MSR', 'end_msr': 'END_MSR'}, inplace=True)"
   ]
  },
  {
   "cell_type": "code",
   "execution_count": 4,
   "metadata": {},
   "outputs": [],
   "source": [
    "# Overlay TMC data with Limited Access, CoSS, and RN tables\n",
    "# Export as csv\n",
    "csv_tmc_pecc_tti = os.path.join(os.path.dirname(intermediate_gdb), 'tmc_pecc_tti.csv')\n",
    "df_tmc_pecc_tti.to_csv(csv_tmc_pecc_tti, index=False)\n",
    "\n",
    "# Convert to gdb table\n",
    "tbl_tmc_pecc_tti = os.path.join(intermediate_gdb, 'tbl_tmc_pecc_tti')\n",
    "arcpy.TableToTable_conversion(csv_tmc_pecc_tti, intermediate_gdb, 'tbl_tmc_pecc_tti')\n",
    "\n",
    "# Overlay tbl_tmc_pecc_tti with Limited Access\n",
    "tbl_tmc_pecc_tti_la = os.path.join(intermediate_gdb, 'tbl_tmc_pecc_tti_la')\n",
    "arcpy.lr.OverlayRouteEvents(\n",
    "        tbl_tmc_pecc_tti,\n",
    "        'RTE_NM; LINE; BEGIN_MSR; END_MSR',\n",
    "        LA, \n",
    "        \"RTE_NM; Line; RTE_FROM_MSR; RTE_TO_MSR\",\n",
    "        'UNION', \n",
    "        os.path.join(intermediate_gdb, 'tbl_tmc_pecc_tti_la'),\n",
    "        'RTE_NM; LINE; BEGIN_MSR; END_MSR',\n",
    "        \"NO_ZERO\",\n",
    "        \"FIELDS\", \n",
    "        \"INDEX\")\n",
    "\n",
    "# Overlay with CoSS\n",
    "tbl_tmc_pecc_tti_la_coss = os.path.join(intermediate_gdb, 'tbl_tmc_pecc_tti_la_coss')\n",
    "arcpy.lr.OverlayRouteEvents(\n",
    "        tbl_tmc_pecc_tti_la,\n",
    "        'RTE_NM; LINE; BEGIN_MSR; END_MSR',\n",
    "        CoSS, \n",
    "        \"RTE_NM; Line; BEGIN_MSR; END_MSR\",\n",
    "        'UNION', \n",
    "        os.path.join(intermediate_gdb, 'tbl_tmc_pecc_tti_la_coss'),\n",
    "        'RTE_NM; LINE; BEGIN_MSR; END_MSR',\n",
    "        \"NO_ZERO\",\n",
    "        \"FIELDS\", \n",
    "        \"INDEX\")\n",
    "\n",
    "# Overlay with RN\n",
    "tbl_tmc_pecc_tti_la_coss_rn = os.path.join(intermediate_gdb, 'tbl_tmc_pecc_tti_la_coss_rn')\n",
    "arcpy.lr.OverlayRouteEvents(\n",
    "        tbl_tmc_pecc_tti_la_coss,\n",
    "        'RTE_NM; LINE; BEGIN_MSR; END_MSR',\n",
    "        RN, \n",
    "        \"RTE_NM; Line; BEGIN_MSR; END_MSR\",\n",
    "        'UNION', \n",
    "        os.path.join(intermediate_gdb, 'tbl_tmc_pecc_tti_la_coss_rn'),\n",
    "        'RTE_NM; LINE; BEGIN_MSR; END_MSR',\n",
    "        \"NO_ZERO\",\n",
    "        \"FIELDS\", \n",
    "        \"INDEX\")\n",
    "\n",
    "congestion_fields = ['RTE_NM', 'BEGIN_MSR', 'END_MSR', 'tmc', 'PECC_Weight', 'F22SHrGT13', 'F22SHrGT15', 'COSS', 'RN', 'RIM_ACCESS_CONTROL_DSC']\n",
    "df_congestion = pd.DataFrame([row for row in arcpy.da.SearchCursor(tbl_tmc_pecc_tti_la_coss_rn, congestion_fields)], columns=congestion_fields)"
   ]
  },
  {
   "cell_type": "markdown",
   "metadata": {},
   "source": [
    "#### Locate Congestion Needs ####\n",
    "\n",
    "**Where PECC is used**: PECC is used to identify Needs for Congestion Mitigation for: (1) Interstate roadways within CoSS; and (2) other select Limited Access Facilities (LAF).  Roadway segments where the average weekday and weekend day share of person miles traveled in excessively congested conditions exceeds policy threshold of 2% are identified as those with Need for Congestion Mitigation\n",
    "\n",
    "**Where TTI is used**: TTI is used to identify Needs for Congestion Mitigation for: (1) non-limited access roadways within CoSS; and (2) all other roadways within RNs.  Roadway segments where the average weekday and weekend day TTI is greater than 1.5 for at least one hour, or 1.3 for at least three hours, are identified as those with a VTrans Midterm Need for Congestion Mitigation."
   ]
  },
  {
   "cell_type": "code",
   "execution_count": 5,
   "metadata": {},
   "outputs": [],
   "source": [
    "# Locate segments that meet congestion needs threshold with PECC\n",
    "df_congestion.loc[(df_congestion['PECC_Weight'] > 2) & ~(df_congestion['RIM_ACCESS_CONTROL_DSC'] == ''), 'congestion_need'] = 'YES'\n",
    "\n",
    "\n",
    "# Locate segments that meet TTI threshold.  Must be on non-limited access segments according to policy\n",
    "df_congestion.loc[((df_congestion['F22SHrGT13'] >= 3) | (df_congestion['F22SHrGT15'] >= 1)) & (df_congestion['RIM_ACCESS_CONTROL_DSC'] == ''), 'tti_threshold'] = 'YES'\n",
    "\n",
    "# (1) non-limited access roadways within CoSS\n",
    "df_congestion.loc[(df_congestion['RIM_ACCESS_CONTROL_DSC'] == '') & (df_congestion['COSS'] == 1) & (df_congestion['tti_threshold'] == 'YES'), 'congestion_need'] = 'YES'\n",
    "\n",
    "# (2) all other roadways within RNs\n",
    "df_congestion.loc[(df_congestion['RIM_ACCESS_CONTROL_DSC'] == '') & (df_congestion['RN'] == 1) & (df_congestion['tti_threshold'] == 'YES'), 'congestion_need'] = 'YES'\n",
    "\n",
    "\n",
    "# Fit to schema\n",
    "df_congestion['CoSS_Congestion'] = 'NO'\n",
    "df_congestion.loc[(df_congestion['COSS'] == 1) & (df_congestion['congestion_need'] == 'YES'), 'CoSS_Congestion'] = 'YES'\n",
    "\n",
    "df_congestion['RN_Congestion'] = 'NO'\n",
    "df_congestion.loc[(df_congestion['RN'] == 1) & (df_congestion['congestion_need'] == 'YES'), 'RN_Congestion'] = 'YES'\n",
    "\n",
    "fields_to_keep = ['RTE_NM', 'BEGIN_MSR', 'END_MSR', 'CoSS_Congestion', 'RN_Congestion']\n",
    "df_output = df_congestion.loc[(df_congestion['CoSS_Congestion'] == 'YES') | (df_congestion['RN_Congestion'] == 'YES')][fields_to_keep]"
   ]
  },
  {
   "cell_type": "markdown",
   "metadata": {},
   "source": [
    "#### Create output event table and layer ####"
   ]
  },
  {
   "cell_type": "code",
   "execution_count": 6,
   "metadata": {},
   "outputs": [
    {
     "data": {
      "text/html": [
       "<div class='gpresult'><h2>Messages</h2><div id='messages' data-messages='[\"Start Time: Tuesday, November 21, 2023 2:50:00 PM\",\"Succeeded at Tuesday, November 21, 2023 2:50:09 PM (Elapsed Time: 8.67 seconds)\"]' data-show='true'><div id = 'default' /></div></div>"
      ],
      "text/plain": [
       "<Result 'C:\\\\Users\\\\daniel.fourquet\\\\Documents\\\\Tasks\\\\VTrans Update\\\\Mid-Term Needs\\\\Congestion Mitigation\\\\data\\\\output.gdb\\\\Congestion_Mitigation'>"
      ]
     },
     "execution_count": 6,
     "metadata": {},
     "output_type": "execute_result"
    }
   ],
   "source": [
    "output_csv = os.path.join(os.path.dirname(intermediate_gdb), 'output.csv')\n",
    "df_output.to_csv(output_csv, index=False)\n",
    "\n",
    "# Make gdb event table\n",
    "arcpy.TableToTable_conversion(output_csv, output_gdb, 'tbl_congestion_mitigation')\n",
    "\n",
    "# Make route event layer\n",
    "arcpy.lr.MakeRouteEventLayer(LRS, \"RTE_NM\", output_csv, \"RTE_NM; Line; BEGIN_MSR; END_MSR\", \"tbl_congestion_mitigation Events\", None, \"NO_ERROR_FIELD\", \"NO_ANGLE_FIELD\", \"NORMAL\", \"ANGLE\", \"LEFT\", \"POINT\")\n",
    "arcpy.conversion.FeatureClassToFeatureClass(\"tbl_congestion_mitigation Events\", output_gdb, \"Congestion_Mitigation\")"
   ]
  }
 ],
 "metadata": {
  "kernelspec": {
   "display_name": "Python 3.7.11 64-bit ('arcgispro-py3')",
   "language": "python",
   "name": "python3"
  },
  "language_info": {
   "codemirror_mode": {
    "name": "ipython",
    "version": 3
   },
   "file_extension": ".py",
   "mimetype": "text/x-python",
   "name": "python",
   "nbconvert_exporter": "python",
   "pygments_lexer": "ipython3",
   "version": "3.7.11"
  },
  "orig_nbformat": 4,
  "vscode": {
   "interpreter": {
    "hash": "ce21b655b4d6c9e397d5ad93d5666c623f49909f6d0cc2f72076dafcf1b3ecfb"
   }
  }
 },
 "nbformat": 4,
 "nbformat_minor": 2
}
