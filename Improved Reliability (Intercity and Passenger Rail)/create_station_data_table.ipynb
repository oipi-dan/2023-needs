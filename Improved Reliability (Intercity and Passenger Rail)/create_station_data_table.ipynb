{
 "cells": [
  {
   "cell_type": "code",
   "execution_count": 1,
   "metadata": {},
   "outputs": [],
   "source": [
    "import pandas as pd\n",
    "import numpy as np"
   ]
  },
  {
   "cell_type": "code",
   "execution_count": 2,
   "metadata": {},
   "outputs": [],
   "source": [
    "# Load data into dataframes\n",
    "data = r\"C:\\Users\\daniel.fourquet\\Documents\\Tasks\\VTrans Update\\Mid-Term Needs\\Improved Reliability (Intercity and Passenger Rail)\\data\\StationData.csv\"\n",
    "df = pd.read_csv(data)\n",
    "nb_fields = []\n",
    "sb_fields = []\n",
    "\n",
    "for field in df.columns:\n",
    "    try:\n",
    "        route = int(field)\n",
    "        if route % 2 == 0:\n",
    "            nb_fields.append(int(field))\n",
    "        else:\n",
    "            sb_fields.append(int(field))\n",
    "    except:\n",
    "        continue\n",
    "\n",
    "raw_data_source = r\"C:\\Users\\daniel.fourquet\\Documents\\Tasks\\VTrans Update\\Mid-Term Needs\\Improved Reliability (Intercity and Passenger Rail)\\data\\raw_data.csv\"\n",
    "df_raw_data = pd.read_csv(raw_data_source)\n"
   ]
  },
  {
   "cell_type": "code",
   "execution_count": 3,
   "metadata": {},
   "outputs": [],
   "source": [
    "def get_average(station, train):\n",
    "    df = df_raw_data.loc[(df_raw_data['Train Number'] == train) & (df_raw_data['Arrival Station Code'] == station)]\n",
    "    df = df.sum()\n",
    "    return float(df['All Stations On Time Count'] / df['All Stations Operated Count'])"
   ]
  },
  {
   "cell_type": "code",
   "execution_count": 4,
   "metadata": {},
   "outputs": [],
   "source": [
    "def get_average_direction(station, direction_fields):\n",
    "    df = df_raw_data.loc[(df_raw_data['Train Number'].isin(direction_fields)) & (df_raw_data['Arrival Station Code'] == station)]\n",
    "    df = df.sum()\n",
    "    return float(df['All Stations On Time Count'] / df['All Stations Operated Count'])"
   ]
  },
  {
   "cell_type": "code",
   "execution_count": 5,
   "metadata": {},
   "outputs": [
    {
     "name": "stderr",
     "output_type": "stream",
     "text": [
      "c:\\Program Files\\ArcGIS\\Pro\\bin\\Python\\envs\\arcgispro-py3\\lib\\site-packages\\ipykernel_launcher.py:4: RuntimeWarning: invalid value encountered in double_scalars\n",
      "  after removing the cwd from sys.path.\n"
     ]
    }
   ],
   "source": [
    "# Get average OTP by direction\n",
    "df_avg_data = []\n",
    "for station in df['Station']:\n",
    "    df_avg_data.append((station, get_average_direction(station, nb_fields), get_average_direction(station, sb_fields)))\n",
    "\n",
    "df_avg = pd.DataFrame(df_avg_data, columns=['Station', 'NB Average', 'SB Average'])\n",
    "df_merge = df.merge(df_avg, on='Station')"
   ]
  },
  {
   "cell_type": "code",
   "execution_count": 6,
   "metadata": {},
   "outputs": [],
   "source": [
    "output = df_merge[['Station', 'Grand Total', 'Long-distance Service Only', 'Threshold', 'On-time Performance (Meet or exceed threshold)', 'NB Average', 'SB Average']]\n",
    "output.to_csv('station_data.csv', index=False)"
   ]
  },
  {
   "cell_type": "code",
   "execution_count": null,
   "metadata": {},
   "outputs": [],
   "source": [
    "\n",
    "df_raw_data"
   ]
  },
  {
   "cell_type": "code",
   "execution_count": null,
   "metadata": {},
   "outputs": [],
   "source": [
    "get_average('FBG', 94)"
   ]
  },
  {
   "cell_type": "code",
   "execution_count": null,
   "metadata": {},
   "outputs": [],
   "source": [
    "even = (0.892857143,0.830357143,0.491525424,0.862068966,0.637873754,)\n",
    "odd = (0.239202658,0.365384615,0.735632184,0.502008032, 2)\n",
    "\n",
    "nb_avg = sum(even)/len(even)\n",
    "sb_avg = sum(odd)/len(odd)\n",
    "\n",
    "print(nb_avg, sb_avg, (sum(even) + sum(odd)) / (len(even) + len(odd)), (nb_avg + sb_avg) / 2)\n"
   ]
  },
  {
   "cell_type": "code",
   "execution_count": null,
   "metadata": {},
   "outputs": [],
   "source": [
    "A = [1, 2, 3, 4, 5]\n",
    "B = [2, 3, 4, 5]\n",
    "AB = A + B\n",
    "\n",
    "avg_A = sum(A) / len(A)\n",
    "avg_B = sum(B) / len(B)\n",
    "avg_AB = sum(AB) / len(AB)\n",
    "avg_A_B = (avg_A + avg_B) / 2\n",
    "\n",
    "print(avg_A, avg_B, avg_AB, avg_A_B)"
   ]
  }
 ],
 "metadata": {
  "kernelspec": {
   "display_name": "Python 3.7.11 64-bit ('arcgispro-py3')",
   "language": "python",
   "name": "python3"
  },
  "language_info": {
   "codemirror_mode": {
    "name": "ipython",
    "version": 3
   },
   "file_extension": ".py",
   "mimetype": "text/x-python",
   "name": "python",
   "nbconvert_exporter": "python",
   "pygments_lexer": "ipython3",
   "version": "3.7.11"
  },
  "orig_nbformat": 4,
  "vscode": {
   "interpreter": {
    "hash": "ce21b655b4d6c9e397d5ad93d5666c623f49909f6d0cc2f72076dafcf1b3ecfb"
   }
  }
 },
 "nbformat": 4,
 "nbformat_minor": 2
}
