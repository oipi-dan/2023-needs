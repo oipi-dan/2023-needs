{
 "cells": [
  {
   "cell_type": "markdown",
   "metadata": {},
   "source": [
    "# Need Category: Improved Reliability (Roadway) #\n",
    "\n",
    "**Measure**: Level of Travel Time Reliability (LOTTR)\n",
    "\n",
    "**What it means**: Number of hours where the ratio of longer (80th percentile) travel times to “normal” (50th percentile) travel time exceeds 50%. A higher number indicates less reliable travel.\n",
    "\n",
    "**Applicable VTrans Travel Markets**: CoSS, RN\n",
    "\n",
    "**Year of analysis**: 2022\n",
    "\n",
    "**Threshold for Need for Improved Reliability**: Roadway segments where the average weekday and weekend day LOTTR is greater than 1.5 for are identified as those with a VTrans Mid-term Need for Improved Reliability."
   ]
  },
  {
   "cell_type": "markdown",
   "metadata": {},
   "source": [
    "### Code ###\n",
    "LOTTR was calculated by ICF.  The code below uses that data to create the needs event table."
   ]
  },
  {
   "cell_type": "code",
   "execution_count": 2,
   "metadata": {},
   "outputs": [],
   "source": [
    "import arcpy\n",
    "import os\n",
    "import pandas as pd\n",
    "\n",
    "arcpy.env.overwriteOutput = True\n",
    "\n",
    "\n",
    "main_path = os.path.dirname(os.path.dirname(os.path.abspath(\"\")))\n",
    "common_datasets_gdb = os.path.join(main_path, r'A1 - Common Datasets\\Common_Datasets.gdb')"
   ]
  },
  {
   "cell_type": "code",
   "execution_count": 2,
   "metadata": {},
   "outputs": [],
   "source": [
    "# Paths to intermediate and output geodatabases\n",
    "intermediate_gdb = f\"{main_path}\\\\A1 - Common Datasets\\\\Improved Reliability (Roadway)\\\\data\\\\intermediate.gdb\"\n",
    "output_gdb = f\"{main_path}\\\\A1 - Common Datasets\\\\Improved Reliability (Roadway)\\\\data\\\\output.gdb\"\n",
    "\n",
    "# Create gdbs if do not exist\n",
    "for gdb_path in [intermediate_gdb, output_gdb]:\n",
    "    if os.path.exists(os.path.dirname(gdb_path)):\n",
    "        if not os.path.exists(gdb_path):\n",
    "            arcpy.management.CreateFileGDB(os.path.dirname(gdb_path), os.path.basename(gdb_path))\n",
    "    else:\n",
    "        raise Exception(f'Path for GDB does not exist: \\n{os.path.dirname(gdb_path)}')\n",
    "\n",
    "# Paths to input layers\n",
    "CoSS = f'{common_datasets_gdb}\\\\tbl_coss_2023'\n",
    "RN = f'{common_datasets_gdb}\\\\tbl_regional_networks'\n",
    "LRS = f'{common_datasets_gdb}\\\\SDE_VDOT_RTE_OVERLAP_LRS_DY'\n",
    "TMC_LRS = f'{common_datasets_gdb}\\\\tbl_tmc_lrs_2023_master'\n",
    "\n",
    "LOTTR = f\"{main_path}\\\\A1 - Common Datasets\\\\Improved Reliability (Roadway)\\\\data\\\\2022_LOTTR_WA_updated.csv\""
   ]
  },
  {
   "cell_type": "code",
   "execution_count": 3,
   "metadata": {},
   "outputs": [],
   "source": [
    "# Load LOTTR data\n",
    "df_lottr = pd.read_csv(LOTTR)#, usecols=['tmc', 'F22SHrGT13', 'F22SHrGT15'])"
   ]
  },
  {
   "cell_type": "code",
   "execution_count": 4,
   "metadata": {},
   "outputs": [],
   "source": [
    "# Identify reliability threshold - Roadway segments where the average weekday and weekend day LOTTR is greater than 1.5 for are identified as those with a VTrans Mid-term Need for Improved Reliability.\n",
    "lottr_columns = ['F22SD6AM', 'F22SD7AM', 'F22SD8AM',\n",
    "       'F22SD9AM', 'F22SD10AM', 'F22SD11AM', 'F22SD12PM', 'F22SD1PM',\n",
    "       'F22SD2PM', 'F22SD3PM', 'F22SD4PM', 'F22SD5PM', 'F22SD6PM', 'F22SD7PM']\n",
    "\n",
    "df_lottr['avg_lottr'] = df_lottr[lottr_columns].mean(axis=1)\n",
    "df_lottr['reliability_threshold'] = 'NO'\n",
    "df_lottr.loc[df_lottr['avg_lottr'] >= 1.5, 'reliability_threshold'] = 'YES'"
   ]
  },
  {
   "cell_type": "code",
   "execution_count": 5,
   "metadata": {},
   "outputs": [
    {
     "data": {
      "text/html": [
       "<div class='gpresult'><h2>Messages</h2><div id='messages' data-messages='[\"Start Time: Tuesday, November 21, 2023 2:50:54 PM\",\"Succeeded at Tuesday, November 21, 2023 2:51:21 PM (Elapsed Time: 27.15 seconds)\"]' data-show='true'><div id = 'default' /></div></div>"
      ],
      "text/plain": [
       "<Result 'C:\\\\Users\\\\daniel.fourquet\\\\Documents\\\\Tasks\\\\VTrans Update\\\\Mid-Term Needs\\\\Improved Reliability (Roadway)\\\\data\\\\intermediate.gdb\\\\tmc_coss_rn'>"
      ]
     },
     "execution_count": 5,
     "metadata": {},
     "output_type": "execute_result"
    }
   ],
   "source": [
    "# Overlay TMC, CoSS, and RN layers\n",
    "tmc_coss = os.path.join(intermediate_gdb, 'tmc_coss')\n",
    "arcpy.lr.OverlayRouteEvents(\n",
    "        TMC_LRS,\n",
    "        'RTE_NM; LINE; BEGIN_MSR; END_MSR',\n",
    "        CoSS, \n",
    "        \"RTE_NM; Line; BEGIN_MSR; END_MSR\",\n",
    "        'UNION', \n",
    "        os.path.join(intermediate_gdb, 'tmc_coss'),\n",
    "        'RTE_NM; LINE; BEGIN_MSR; END_MSR',\n",
    "        \"NO_ZERO\",\n",
    "        \"FIELDS\", \n",
    "        \"INDEX\")\n",
    "\n",
    "tmc_coss_rn = os.path.join(intermediate_gdb, 'tmc_coss_rn')\n",
    "arcpy.lr.OverlayRouteEvents(\n",
    "        tmc_coss,\n",
    "        'RTE_NM; LINE; BEGIN_MSR; END_MSR',\n",
    "        RN, \n",
    "        \"RTE_NM; Line; BEGIN_MSR; END_MSR\",\n",
    "        'UNION', \n",
    "        os.path.join(intermediate_gdb, 'tmc_coss_rn'),\n",
    "        'RTE_NM; LINE; BEGIN_MSR; END_MSR',\n",
    "        \"NO_ZERO\",\n",
    "        \"FIELDS\", \n",
    "        \"INDEX\")"
   ]
  },
  {
   "cell_type": "code",
   "execution_count": 6,
   "metadata": {},
   "outputs": [],
   "source": [
    "# Join data to LRS by TMC\n",
    "tmc_fields = ['TMC', 'RTE_NM', 'BEGIN_MSR', 'END_MSR', 'COSS', 'RN']\n",
    "df_tmcs = pd.DataFrame([row for row in arcpy.da.SearchCursor(tmc_coss_rn, tmc_fields)], columns=tmc_fields).rename(columns={'TMC':'tmc'})\n",
    "df_tmcs['len'] = round(df_tmcs['END_MSR'] - df_tmcs['BEGIN_MSR'], 3)\n",
    "df_tmcs = df_tmcs.loc[~(df_tmcs['tmc'] == '') & (df_tmcs['len'] > 0)]"
   ]
  },
  {
   "cell_type": "code",
   "execution_count": 7,
   "metadata": {},
   "outputs": [],
   "source": [
    "# Add tmc, coss, and rn data to lottr data\n",
    "df_lottr_tmc = df_tmcs.merge(df_lottr, on='tmc')"
   ]
  },
  {
   "cell_type": "markdown",
   "metadata": {},
   "source": [
    "#### Create output event table and layer ####"
   ]
  },
  {
   "cell_type": "code",
   "execution_count": 8,
   "metadata": {},
   "outputs": [],
   "source": [
    "# Identify CoSS Reliability Needs\n",
    "df_lottr_tmc['CoSS_Reliability'] = 'NO'\n",
    "df_lottr_tmc.loc[(df_lottr_tmc['reliability_threshold'] == 'YES') & (df_lottr_tmc['COSS'] == 1), 'CoSS_Reliability'] = 'YES'\n",
    "\n",
    "# Identify RN Reliability Needs\n",
    "df_lottr_tmc['RN_Reliability'] = 'NO'\n",
    "df_lottr_tmc.loc[(df_lottr_tmc['reliability_threshold'] == 'YES') & (df_lottr_tmc['RN'] == 1), 'RN_Reliability'] = 'YES'\n",
    "\n",
    "# Fit to schema\n",
    "fields_to_keep = ['RTE_NM', 'BEGIN_MSR', 'END_MSR', 'CoSS_Reliability', 'RN_Reliability']\n",
    "df_output = df_lottr_tmc.loc[(df_lottr_tmc['CoSS_Reliability'] == 'YES') | (df_lottr_tmc['RN_Reliability'] == 'YES')][fields_to_keep]"
   ]
  },
  {
   "cell_type": "code",
   "execution_count": 9,
   "metadata": {},
   "outputs": [
    {
     "data": {
      "text/html": [
       "<div class='gpresult'><h2>Messages</h2><div id='messages' data-messages='[\"Start Time: Tuesday, November 21, 2023 2:51:25 PM\",\"Succeeded at Tuesday, November 21, 2023 2:51:26 PM (Elapsed Time: 1.32 seconds)\"]' data-show='true'><div id = 'default' /></div></div>"
      ],
      "text/plain": [
       "<Result 'C:\\\\Users\\\\daniel.fourquet\\\\Documents\\\\Tasks\\\\VTrans Update\\\\Mid-Term Needs\\\\Improved Reliability (Roadway)\\\\data\\\\output.gdb\\\\Reliability'>"
      ]
     },
     "execution_count": 9,
     "metadata": {},
     "output_type": "execute_result"
    }
   ],
   "source": [
    "output_csv = os.path.join(os.path.dirname(intermediate_gdb), 'output.csv')\n",
    "df_output.to_csv(output_csv, index=False)\n",
    "\n",
    "# Make gdb event table\n",
    "arcpy.TableToTable_conversion(output_csv, output_gdb, 'tbl_reliability')\n",
    "\n",
    "# Make route event layer\n",
    "arcpy.lr.MakeRouteEventLayer(LRS, \"RTE_NM\", output_csv, \"RTE_NM; Line; BEGIN_MSR; END_MSR\", \"tbl_reliability Events\", None, \"NO_ERROR_FIELD\", \"NO_ANGLE_FIELD\", \"NORMAL\", \"ANGLE\", \"LEFT\", \"POINT\")\n",
    "arcpy.conversion.FeatureClassToFeatureClass(\"tbl_reliability Events\", output_gdb, \"Reliability\")"
   ]
  }
 ],
 "metadata": {
  "kernelspec": {
   "display_name": "Python 3.7.11 64-bit ('arcgispro-py3')",
   "language": "python",
   "name": "python3"
  },
  "language_info": {
   "codemirror_mode": {
    "name": "ipython",
    "version": 3
   },
   "file_extension": ".py",
   "mimetype": "text/x-python",
   "name": "python",
   "nbconvert_exporter": "python",
   "pygments_lexer": "ipython3",
   "version": "3.7.11"
  },
  "orig_nbformat": 4,
  "vscode": {
   "interpreter": {
    "hash": "ce21b655b4d6c9e397d5ad93d5666c623f49909f6d0cc2f72076dafcf1b3ecfb"
   }
  }
 },
 "nbformat": 4,
 "nbformat_minor": 2
}
