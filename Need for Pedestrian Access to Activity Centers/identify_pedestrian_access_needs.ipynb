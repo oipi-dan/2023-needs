{
 "cells": [
  {
   "cell_type": "markdown",
   "metadata": {},
   "source": [
    "# Need Category: Walk Access to Activity Centers #\n",
    "\n",
    "**Measure**: Activity Centers Pedestrian Walk-sheds\n",
    "\n",
    "**What it means**: Areas within walking distance of VTrans Activity Centers. VTrans Activity Centers are identified as “areas of regional importance that have a high density of economic and social activity” and are associated with the Regional Networks Travel Market. Activity Centers have been identified through stakeholder input.\n",
    "\n",
    "**Travel Market**: RN\n",
    "\n",
    "**Data Sources**:\n",
    "1. Acitvity Centers (OIPI)\n",
    "2. Existing, Planned and Under-Construction Fixed-Guideway and bus rapid transit (BRT) lines: Northern Virginia and\n",
    "Fredericksburg Regional Networks, Dulles Corridor Metrorail Project, Hampton Roads Regional Network, Greater\n",
    "Richmond Transit Company, Washington Metropolitan Area Transit Authority (GTFS Stops, DRPT)\n",
    "3. Table B08534: Means of Transportation to Work by Travel Time to Work (US Census Bureau ACS)\n",
    "4. Metropolitan Planning Organization (MPO) boundaries in Virginia\n",
    "5. Transit stops in Virginia (GTFS Stops, DRPT)\n",
    "\n",
    "**Year of Analysis**: 2022"
   ]
  },
  {
   "cell_type": "markdown",
   "metadata": {},
   "source": [
    "#### Calculations ####\n",
    "\n",
    "1. Generate walk needs buffers of 1 mile around the Activity Centers, fixed-guideway transit stations, and BRT lines.\n",
    "2. Identify applicable roadway segments as those within the 1-mile buffer that are characterized as a non-limited access\n",
    "facility and are functionally classified above Local Streets.\n",
    "    * Create event table for lrs within buffer area\n",
    "    * Create event table for non-limited access routes with functional classification greater than local\n",
    "    * Overlap the above event tables.  This result represents the pedestrian access needs.\n",
    "3. Applicable roadway segments within one mile of Activity Centers, fixed-guideway transit stations, and BRT lines are identified as those with a VTrans Mid-term Need\n",
    "for Pedestrian Access to Activity Centers."
   ]
  },
  {
   "cell_type": "markdown",
   "metadata": {},
   "source": [
    "#### Code ####"
   ]
  },
  {
   "cell_type": "code",
   "execution_count": 1,
   "metadata": {},
   "outputs": [],
   "source": [
    "import arcpy\n",
    "import os\n",
    "import pandas as pd\n",
    "\n",
    "arcpy.env.overwriteOutput = True\n",
    "\n",
    "\n",
    "main_path = os.path.dirname(os.path.dirname(os.path.abspath(__file__)))\n",
    "common_datasets_gdb = os.path.join(main_path, r'A1 - Common Datasets\\Common_Datasets.gdb')"
   ]
  },
  {
   "cell_type": "markdown",
   "metadata": {},
   "source": [
    "#### Input parameters ####\n",
    "Set the following input parameters:\n",
    "1. walk_speed - obtained from Manual on Uniform Traffic Control Devices\n",
    "2. walk_commute_time - Virginia's 90th percentile single-mode walk commute time from ACS Table B08534\n",
    "3. walk_needs_radius - calculated by multiplying the walk speed by the walk commute time and rounding the result to the nearest integer"
   ]
  },
  {
   "cell_type": "code",
   "execution_count": 2,
   "metadata": {},
   "outputs": [],
   "source": [
    "walk_speed = 2.4  # mph\n",
    "walk_commute_time = 25  # minutes\n",
    "walk_commute_time_hr = walk_commute_time / 60  # Convert to hours to match walk speed units\n",
    "walk_needs_radius = round(walk_speed * walk_commute_time_hr)"
   ]
  },
  {
   "cell_type": "markdown",
   "metadata": {},
   "source": [
    "#### Data Sources ####\n",
    "1. Acitvity Centers (OIPI)\n",
    "2. Existing, Planned and Under-Construction Fixed-Guideway and bus rapid transit (BRT) lines: Northern Virginia and\n",
    "Fredericksburg Regional Networks, Dulles Corridor Metrorail Project, Hampton Roads Regional Network, Greater\n",
    "Richmond Transit Company, Washington Metropolitan Area Transit Authority (GTFS Stops, DRPT)\n",
    "3. Table B08534: Means of Transportation to Work by Travel Time to Work (US Census Bureau ACS)\n",
    "4. Metropolitan Planning Organization (MPO) boundaries in Virginia\n",
    "5. Transit stops in Virginia (GTFS Stops, DRPT)"
   ]
  },
  {
   "cell_type": "code",
   "execution_count": 3,
   "metadata": {},
   "outputs": [],
   "source": [
    "intermediate_gdb = f\"{main_path}\\\\A1 - Common Datasets\\\\Need for Pedestrian Access to Activity Centers\\\\data\\\\intermediate.gdb\"\n",
    "output_gdb = f\"{main_path}\\\\A1 - Common Datasets\\\\Need for Pedestrian Access to Activity Centers\\\\data\\\\output.gdb\"\n",
    "\n",
    "# Create gdbs if do not exist\n",
    "for gdb_path in [intermediate_gdb, output_gdb]:\n",
    "    if os.path.exists(os.path.dirname(gdb_path)):\n",
    "        if not os.path.exists(gdb_path):\n",
    "            arcpy.management.CreateFileGDB(os.path.dirname(gdb_path), os.path.basename(gdb_path))\n",
    "    else:\n",
    "        raise Exception(f'Path for GDB does not exist: \\n{os.path.dirname(gdb_path)}')\n",
    "\n",
    "# MPO Boundaries\n",
    "mpo_boundaries_source = f'{common_datasets_gdb}\\\\MPO'\n",
    "mpo_boundaries = os.path.join(intermediate_gdb, 'MPO')\n",
    "arcpy.Project_management(mpo_boundaries_source, mpo_boundaries, arcpy.SpatialReference(3969))\n",
    "\n",
    "\n",
    "# Activity Centers - project to VA lambert, retaining only knowledge-based and local-serving Activity Centers inside of MPO boundaries.\n",
    "activity_centers_source = f'{common_datasets_gdb}\\\\VTrans_Activity_Centers'\n",
    "\n",
    "activity_centers_mpos = os.path.join(intermediate_gdb, 'activity_centers_mpos')\n",
    "arcpy.PairwiseClip_analysis(activity_centers_source, mpo_boundaries, activity_centers_mpos)\n",
    "\n",
    "# Filter activity centers to local-serving and knowledge-based\n",
    "activity_centers_filtered = os.path.join(intermediate_gdb, 'VTrans_Activity_Centers_Filtered')\n",
    "sql = \"prmry_c IN ('local serving', 'knowledge')\"\n",
    "arcpy.FeatureClassToFeatureClass_conversion(activity_centers_mpos, intermediate_gdb, 'VTrans_Activity_Centers_Filtered', sql)\n",
    "\n",
    "activity_centers = os.path.join(intermediate_gdb, 'VTrans_Activity_Centers')\n",
    "arcpy.Project_management(activity_centers_filtered, activity_centers, arcpy.SpatialReference(3969))\n",
    "\n",
    "\n",
    "# RN Boundaries\n",
    "rn_boundaries = f'{common_datasets_gdb}\\\\RegionalNetworks'\n",
    "\n",
    "# GTFS Stops - fixed guideway only (DC metro, VRE, Amtrak, Pulse, Tide) retain only stops within MPO boundaries\n",
    "gtfs_stops_source = f'{common_datasets_gdb}\\\\FixedGuideway_Transit'\n",
    "arcpy.MakeFeatureLayer_management(gtfs_stops_source, 'lyr_gtfs_stops')\n",
    "arcpy.MakeFeatureLayer_management(mpo_boundaries_source, 'lyr_mpo_boundaries')\n",
    "arcpy.SelectLayerByLocation_management('lyr_gtfs_stops', 'INTERSECT', 'lyr_mpo_boundaries')\n",
    "arcpy.FeatureClassToFeatureClass_conversion('lyr_gtfs_stops', intermediate_gdb, 'gtfs_stops_filtered')\n",
    "gtfs_stops_filtered = os.path.join(intermediate_gdb, 'gtfs_stops_filtered')\n",
    "arcpy.Delete_management('lyr_gtfs_stops')\n",
    "arcpy.Delete_management('lyr_mpo_boundaries')\n",
    "\n",
    "gtfs_stops = os.path.join(intermediate_gdb, 'Layer__GTFS_Stops')\n",
    "arcpy.Project_management(gtfs_stops_filtered, gtfs_stops, arcpy.SpatialReference(3969))\n",
    "\n",
    "# Functional Classification event table.  Create a new table that excludes local routes\n",
    "tbl_fc = f'{common_datasets_gdb}\\\\tbl_fc23'\n",
    "sql = 'STATE_FUNCT_CLASS_ID < 7'\n",
    "arcpy.TableToTable_conversion(tbl_fc, intermediate_gdb, 'tbl_fc_noLocal', sql)\n",
    "tbl_fc = os.path.join(intermediate_gdb, 'tbl_fc_noLocal')\n",
    "\n",
    "# Overlap LRS\n",
    "lrs = f'{common_datasets_gdb}\\\\SDE_VDOT_RTE_OVERLAP_LRS_DY'\n",
    "\n",
    "# Limited Access\n",
    "tbl_limited_access = f'{common_datasets_gdb}\\\\tbl_limited_access'\n",
    "arcpy.TableToTable_conversion(tbl_limited_access, intermediate_gdb, 'tbl_la')\n",
    "tbl_limited_access = os.path.join(intermediate_gdb, 'tbl_la')\n",
    "if 'la' not in [field.name for field in arcpy.ListFields(tbl_limited_access)]:\n",
    "    arcpy.AddField_management(tbl_limited_access, 'la', 'SHORT')\n",
    "    with arcpy.da.UpdateCursor(tbl_limited_access, 'la') as cur:\n",
    "        for row in cur:\n",
    "            row[0] = 1\n",
    "            cur.updateRow(row)\n"
   ]
  },
  {
   "cell_type": "markdown",
   "metadata": {},
   "source": [
    "### Calculations ###\n",
    "1. Generate walk needs buffers of 1 mile around the Activity Centers, fixed-guideway transit stations, and BRT lines.\n",
    "2. Identify applicable roadway segments as those within the 1-mile buffer that are characterized as a non-limited access\n",
    "facility and are functionally classified above Local Streets.\n",
    "    * Create event table for lrs within buffer area\n",
    "    * Create event table for non-limited access routes with functional classification greater than local\n",
    "    * Overlap the above event tables.  This result represents the pedestrian access needs.\n",
    "3. Applicable roadway segments within one mile of Activity Centers, fixed-guideway transit stations, and BRT lines are identified as those with a VTrans Mid-term Need\n",
    "for Pedestrian Access to Activity Centers."
   ]
  },
  {
   "cell_type": "code",
   "execution_count": 4,
   "metadata": {},
   "outputs": [
    {
     "name": "stdout",
     "output_type": "stream",
     "text": [
      "Create event table\n",
      "Adding field BEGIN_MSR\n",
      "Adding field END_MSR\n"
     ]
    },
    {
     "data": {
      "text/html": [
       "<div class='gpresult'><h2>Messages</h2><div id='messages' data-messages='[\"Start Time: Wednesday, November 15, 2023 2:09:52 PM\",\"Succeeded at Wednesday, November 15, 2023 2:10:05 PM (Elapsed Time: 12.62 seconds)\"]' data-show='true'><div id = 'default' /></div></div>"
      ],
      "text/plain": [
       "<Result 'C:\\\\Users\\\\daniel.fourquet\\\\Documents\\\\Tasks\\\\VTrans Update\\\\Mid-Term Needs\\\\Need for Pedestrian Access to Activity Centers\\\\data\\\\intermediate.gdb\\\\tbl_lrs_clip_explode'>"
      ]
     },
     "execution_count": 4,
     "metadata": {},
     "output_type": "execute_result"
    }
   ],
   "source": [
    "# Generate walk needs buffer\n",
    "activity_centers_buffer = os.path.join(intermediate_gdb, 'activity_centers_buffer')\n",
    "arcpy.analysis.PairwiseBuffer(activity_centers, activity_centers_buffer, f'{walk_needs_radius} MILES', \"ALL\", None, \"GEODESIC\", \"0 DecimalDegrees\")\n",
    "\n",
    "gtfs_stops_dissolved = os.path.join(intermediate_gdb, 'gtfs_stops_dissolved')\n",
    "arcpy.analysis.PairwiseDissolve(gtfs_stops, gtfs_stops_dissolved, None, None, \"MULTI_PART\")\n",
    "gtfs_stops_buffer = os.path.join(intermediate_gdb, 'gtfs_stops_buffer')\n",
    "arcpy.analysis.PairwiseBuffer(gtfs_stops_dissolved, gtfs_stops_buffer, f'{walk_needs_radius} MILES', \"ALL\", None, \"GEODESIC\", \"0 DecimalDegrees\")\n",
    "\n",
    "walk_needs_buffer_source = os.path.join(intermediate_gdb, 'walk_needs_buffer_source')\n",
    "# arcpy.analysis.PairwiseIntersect([activity_centers_buffer, gtfs_stops_buffer], walk_needs_buffer_source)\n",
    "arcpy.analysis.Union([activity_centers_buffer, gtfs_stops_buffer], walk_needs_buffer_source)\n",
    "walk_needs_buffer = os.path.join(intermediate_gdb, 'walk_needs_buffer')\n",
    "arcpy.analysis.PairwiseDissolve(walk_needs_buffer_source, walk_needs_buffer, None, None, \"MULTI_PART\")\n",
    "\n",
    "lrs_clip = os.path.join(intermediate_gdb, 'lrs_clip')\n",
    "lrs_clip_rn = os.path.join(intermediate_gdb, 'lrs_clip_rn')\n",
    "lrs_clip_explode = os.path.join(intermediate_gdb, 'lrs_clip_explode')\n",
    "arcpy.analysis.PairwiseClip(lrs, walk_needs_buffer, lrs_clip)\n",
    "arcpy.analysis.PairwiseClip(lrs_clip, rn_boundaries, lrs_clip_rn)\n",
    "arcpy.management.MultipartToSinglepart(lrs_clip_rn, lrs_clip_explode)\n",
    "# Add mp fields to lrs_clip_explode if they do not yet exist\n",
    "mp_fields = ['BEGIN_MSR', 'END_MSR']\n",
    "for field in mp_fields:\n",
    "    if field not in [field.name for field in arcpy.ListFields(lrs_clip_explode)]:\n",
    "        arcpy.AddField_management(lrs_clip_explode, field, 'DOUBLE')\n",
    "\n",
    "with arcpy.da.UpdateCursor(lrs_clip_explode, ['BEGIN_MSR', 'END_MSR', 'SHAPE@']) as cur:\n",
    "    for row in cur:\n",
    "        geom = row[-1]\n",
    "        begin_msr = geom.firstPoint.M\n",
    "        end_msr = geom.lastPoint.M\n",
    "        row[0] = begin_msr\n",
    "        row[1] = end_msr\n",
    "        cur.updateRow(row)\n",
    "\n",
    "tbl_lrs_clip_explode = os.path.join(intermediate_gdb, 'tbl_lrs_clip_explode')\n",
    "arcpy.TableToTable_conversion(lrs_clip_explode, intermediate_gdb, 'tbl_lrs_clip_explode')"
   ]
  },
  {
   "cell_type": "code",
   "execution_count": 5,
   "metadata": {},
   "outputs": [],
   "source": [
    "# Overlay event tables\n",
    "tbl_la_fc = os.path.join(intermediate_gdb, 'tbl_la_fc')\n",
    "arcpy.lr.OverlayRouteEvents(tbl_limited_access, 'RTE_NM LINE RTE_TO_MSR RTE_FROM_MSR', tbl_fc, 'RTE_NM LINE BEGIN_MSR END_MSR', 'UNION', tbl_la_fc, 'RTE_NM LINE BEGIN_MSR END_MSR', zero_length_events='NO_ZERO')\n",
    "\n",
    "tbl_la_fc_buffer = os.path.join(intermediate_gdb, 'tbl_la_fc_buffer')\n",
    "arcpy.lr.OverlayRouteEvents(tbl_la_fc, 'RTE_NM LINE BEGIN_MSR END_MSR', tbl_lrs_clip_explode, 'RTE_NM LINE BEGIN_MSR END_MSR', 'INTERSECT', tbl_la_fc_buffer, 'RTE_NM LINE BEGIN_MSR END_MSR', zero_length_events='NO_ZERO')\n",
    "\n",
    "# Create needs field.  Need = 1 where not limited access (la = 0)\n",
    "sql = 'la = 0'\n",
    "arcpy.AddField_management(tbl_la_fc_buffer, 'RN_AC_Pedestrian_Access', 'TEXT')\n",
    "with arcpy.da.UpdateCursor(tbl_la_fc_buffer, ['la', 'RN_AC_Pedestrian_Access']) as cur:\n",
    "    for row in cur:\n",
    "        if row[0] == 0:\n",
    "            row[1] = 'YES'\n",
    "        else:\n",
    "            row[1] = 'NO'\n",
    "        cur.updateRow(row)"
   ]
  },
  {
   "cell_type": "markdown",
   "metadata": {},
   "source": [
    "#### Create output event table and layer ####"
   ]
  },
  {
   "cell_type": "code",
   "execution_count": 6,
   "metadata": {},
   "outputs": [
    {
     "data": {
      "text/html": [
       "<div class='gpresult'><h2>Messages</h2><div id='messages' data-messages='[\"Start Time: Wednesday, November 15, 2023 2:10:23 PM\",\"Succeeded at Wednesday, November 15, 2023 2:10:49 PM (Elapsed Time: 25.36 seconds)\"]' data-show='true'><div id = 'default' /></div></div>"
      ],
      "text/plain": [
       "<Result 'C:\\\\Users\\\\daniel.fourquet\\\\Documents\\\\Tasks\\\\VTrans Update\\\\Mid-Term Needs\\\\Need for Pedestrian Access to Activity Centers\\\\data\\\\output.gdb\\\\Walk_Access_to_Activity_Centers'>"
      ]
     },
     "execution_count": 6,
     "metadata": {},
     "output_type": "execute_result"
    }
   ],
   "source": [
    "# Create a dataframe from the previous output that will  match the required schema for needs\n",
    "fields_to_keep = ['RTE_NM', 'BEGIN_MSR', 'END_MSR', 'RN_AC_Pedestrian_Access']\n",
    "df = pd.DataFrame([row for row in arcpy.da.SearchCursor(tbl_la_fc_buffer, fields_to_keep)], columns=fields_to_keep)\n",
    "\n",
    "# Place fields in order specified in schema sheet\n",
    "df = df[fields_to_keep]\n",
    "\n",
    "# Export to csv\n",
    "output_csv = os.path.join(os.path.dirname(output_gdb), 'output.csv')\n",
    "df.to_csv(output_csv, index=False)\n",
    "\n",
    "# Make gdb event table\n",
    "arcpy.TableToTable_conversion(output_csv, output_gdb, 'tbl_ped_access')\n",
    "\n",
    "# Make route event layer\n",
    "arcpy.lr.MakeRouteEventLayer(lrs, \"RTE_NM\", output_csv, \"RTE_NM; Line; BEGIN_MSR; END_MSR\", \"tbl_ped_access Events\", None, \"NO_ERROR_FIELD\", \"NO_ANGLE_FIELD\", \"NORMAL\", \"ANGLE\", \"LEFT\", \"POINT\")\n",
    "arcpy.conversion.FeatureClassToFeatureClass(\"tbl_ped_access Events\", output_gdb, \"Walk_Access_to_Activity_Centers\")\n"
   ]
  },
  {
   "cell_type": "code",
   "execution_count": null,
   "metadata": {},
   "outputs": [],
   "source": []
  }
 ],
 "metadata": {
  "kernelspec": {
   "display_name": "Python 3.7.11 64-bit ('arcgispro-py3')",
   "language": "python",
   "name": "python3"
  },
  "language_info": {
   "codemirror_mode": {
    "name": "ipython",
    "version": 3
   },
   "file_extension": ".py",
   "mimetype": "text/x-python",
   "name": "python",
   "nbconvert_exporter": "python",
   "pygments_lexer": "ipython3",
   "version": "3.7.11"
  },
  "orig_nbformat": 4,
  "vscode": {
   "interpreter": {
    "hash": "ce21b655b4d6c9e397d5ad93d5666c623f49909f6d0cc2f72076dafcf1b3ecfb"
   }
  }
 },
 "nbformat": 4,
 "nbformat_minor": 2
}
