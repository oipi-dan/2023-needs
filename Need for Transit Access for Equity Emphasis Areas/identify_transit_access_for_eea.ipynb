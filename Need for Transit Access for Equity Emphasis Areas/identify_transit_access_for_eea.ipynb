{
 "cells": [
  {
   "cell_type": "markdown",
   "metadata": {},
   "source": [
    "# Transit Access for Equaity Emphasis Areas #\n",
    "\n",
    "This script requires the three input parts to be calculated in advance:\n",
    "1. Equity Emphasis Areas (EEA)\n",
    "2. Transit Viability\n",
    "3. Areas Underserved by Transit\n",
    "\n",
    "**Threshold for Need for Transit Access for Equity Emphasis Areas** : Roadway segments in areas that are\n",
    "identified as EEAs, are considered Transit-viable, and are considered underserved by transit are identified as those with\n",
    "a VTrans Mid-term Need for Transit Access for Equity Emphasis Areas."
   ]
  },
  {
   "cell_type": "code",
   "execution_count": 1,
   "metadata": {},
   "outputs": [],
   "source": [
    "import arcpy\n",
    "import os\n",
    "import pandas as pd\n",
    "\n",
    "arcpy.env.overwriteOutput = True\n",
    "\n",
    "\n",
    "main_path = os.path.dirname(os.path.dirname(os.path.abspath(__file__)))\n",
    "common_datasets_gdb = os.path.join(main_path, r'A1 - Common Datasets\\Common_Datasets.gdb')\n",
    "\n",
    "\n",
    "# Paths to intermediate and output geodatabases\n",
    "intermediate_gdb = f\"{main_path}\\\\A1 - Common Datasets\\\\Need for Transit Access for Equity Emphasis Areas\\\\data\\\\intermediate.gdb\"\n",
    "output_gdb = f\"{main_path}\\\\A1 - Common Datasets\\\\Need for Transit Access for Equity Emphasis Areas\\\\data\\\\output.gdb\"\n",
    "\n",
    "# Create gdbs if do not exist\n",
    "for gdb_path in [intermediate_gdb, output_gdb]:\n",
    "    if os.path.exists(os.path.dirname(gdb_path)):\n",
    "        if not os.path.exists(gdb_path):\n",
    "            arcpy.management.CreateFileGDB(os.path.dirname(gdb_path), os.path.basename(gdb_path))\n",
    "    else:\n",
    "        raise Exception(f'Path for GDB does not exist: \\n{os.path.dirname(gdb_path)}')\n",
    "\n",
    "\n",
    "# Overlap LRS\n",
    "LRS = f'{common_datasets_gdb}\\\\SDE_VDOT_RTE_OVERLAP_LRS_DY'\n",
    "\n",
    "# Functional Classification event table\n",
    "TBL_FC = f'{common_datasets_gdb}\\\\tbl_fc23'\n",
    "\n",
    "# Regional Network event table\n",
    "RN = f'{common_datasets_gdb}\\\\tbl_regional_networks'\n",
    "\n",
    "# Input parts:\n",
    "# EEA.  These are in a block group polygon where eea = 'YES'\n",
    "EEAs = f'{main_path}\\\\A1 - Common Datasets\\\\Need for Transit Access for Equity Emphasis Areas\\\\data\\\\intermediate.gdb\\\\Block_Group'\n",
    "\n",
    "# Transit Viability and Underserved by Transit.  These are in a block group polygon\n",
    "# where TransitViability_Flag = 1 and TransitUnderserved_Flag = 1\n",
    "Transit_Viability_Underserved = f'{main_path}\\\\A1 - Common Datasets\\\\Need for Transit Access for Equity Emphasis Areas\\\\data\\\\transit_viability_underserved.gdb\\\\transit_viability_underserved'"
   ]
  },
  {
   "cell_type": "code",
   "execution_count": 2,
   "metadata": {},
   "outputs": [],
   "source": [
    "# Identify block groups that meet the threshold for transit access need\n",
    "\n",
    "# EEA Blocks\n",
    "eea_fields = ['GEOID', 'eea']\n",
    "df_EEAs = pd.DataFrame([row for row in arcpy.da.SearchCursor(EEAs, eea_fields)], columns=eea_fields).set_index('GEOID')\n",
    "\n",
    "# Transit Viability Blocks\n",
    "viability_fields = ['GEOID', 'TransitViability_Flag']\n",
    "df_transit_viability = pd.DataFrame([row for row in arcpy.da.SearchCursor(Transit_Viability_Underserved, viability_fields)], columns=viability_fields).set_index('GEOID')\n",
    "df_transit_viability.loc[df_transit_viability['TransitViability_Flag'] == 1, 'TransitViability_Flag'] = 'YES'\n",
    "df_transit_viability.loc[df_transit_viability['TransitViability_Flag'] == 0, 'TransitViability_Flag'] = 'NO'\n",
    "\n",
    "# Underserved Transit Blocks\n",
    "underserved_fields = ['GEOID', 'TransitUnderserved_Flag']\n",
    "df_transit_underserved = pd.DataFrame([row for row in arcpy.da.SearchCursor(Transit_Viability_Underserved, underserved_fields)], columns=underserved_fields).set_index('GEOID')\n",
    "df_transit_underserved.loc[df_transit_underserved['TransitUnderserved_Flag'] == 1, 'TransitUnderserved_Flag'] = 'YES'\n",
    "df_transit_underserved.loc[df_transit_underserved['TransitUnderserved_Flag'] == 0, 'TransitUnderserved_Flag'] = 'NO'\n",
    "\n",
    "# Three parts merged into one DataFrame\n",
    "df_eea_viability_underserved = df_EEAs.join([df_transit_viability, df_transit_underserved])\n",
    "\n",
    "# Needs will be determined by the blocks that meet the threshold of all three parts\n",
    "df_blocks_all_three = df_eea_viability_underserved.loc[(df_eea_viability_underserved['eea'] == 'YES') & (df_eea_viability_underserved['TransitViability_Flag'] == 'YES') & (df_eea_viability_underserved['TransitUnderserved_Flag'] == 'YES')]"
   ]
  },
  {
   "cell_type": "code",
   "execution_count": 3,
   "metadata": {},
   "outputs": [
    {
     "data": {
      "text/html": [
       "<div class='gpresult'><h2>Messages</h2><div id='messages' data-messages='[\"Start Time: Friday, November 17, 2023 11:38:11 AM\",\"Dissolving...\",\"Succeeded at Friday, November 17, 2023 11:38:12 AM (Elapsed Time: 0.68 seconds)\"]' data-show='true'><div id = 'default' /></div></div>"
      ],
      "text/plain": [
       "<Result 'C:\\\\Users\\\\daniel.fourquet\\\\Documents\\\\Tasks\\\\VTrans Update\\\\Mid-Term Needs\\\\Need for Transit Access for Equity Emphasis Areas\\\\data\\\\intermediate.gdb\\\\threshold_blocks'>"
      ]
     },
     "execution_count": 3,
     "metadata": {},
     "output_type": "execute_result"
    }
   ],
   "source": [
    "# create census blocks layer containing only blocks that meet all three thresholds identified in df_blocks_all_three\n",
    "blocks_all_three_sql = f\"GEOID in {str(tuple(df_blocks_all_three.index))}\"\n",
    "threshold_blocks = os.path.join(intermediate_gdb, 'threshold_blocks')\n",
    "arcpy.FeatureClassToFeatureClass_conversion(EEAs, intermediate_gdb, 'threshold_blocks', blocks_all_three_sql)\n",
    "\n",
    "# Buffer by 100' to prevent segmentation on roads that lie on the boundary of the block groups\n",
    "threshold_blocks_buffer = os.path.join(intermediate_gdb, 'threshold_blocks_buffer')\n",
    "arcpy.PairwiseBuffer_analysis(threshold_blocks, threshold_blocks_buffer, '100 FEET')\n",
    "arcpy.PairwiseDissolve_analysis(threshold_blocks_buffer, threshold_blocks)"
   ]
  },
  {
   "cell_type": "code",
   "execution_count": 4,
   "metadata": {},
   "outputs": [
    {
     "data": {
      "text/html": [
       "<div class='gpresult'><h2>Messages</h2><div id='messages' data-messages='[\"Start Time: Friday, November 17, 2023 11:39:44 AM\",\"Clipping input features...\",\"Succeeded at Friday, November 17, 2023 11:39:45 AM (Elapsed Time: 1.45 seconds)\"]' data-show='true'><div id = 'default' /></div></div>"
      ],
      "text/plain": [
       "<Result 'C:\\\\Users\\\\daniel.fourquet\\\\Documents\\\\Tasks\\\\VTrans Update\\\\Mid-Term Needs\\\\Need for Transit Access for Equity Emphasis Areas\\\\data\\\\intermediate.gdb\\\\fc_threshold_blocks'>"
      ]
     },
     "execution_count": 4,
     "metadata": {},
     "output_type": "execute_result"
    }
   ],
   "source": [
    "# Using functional classification > local as base, identify segments that are within threshold_blocks as a need\n",
    "\n",
    "# Make FC route event layer\n",
    "arcpy.lr.MakeRouteEventLayer(LRS, \"RTE_NM\", TBL_FC, \"RTE_NM; Line; BEGIN_MSR; END_MSR\", \"tbl_fc Events\", None, \"NO_ERROR_FIELD\", \"NO_ANGLE_FIELD\", \"NORMAL\", \"ANGLE\", \"LEFT\", \"POINT\")\n",
    "arcpy.conversion.FeatureClassToFeatureClass(\"tbl_fc Events\", intermediate_gdb, \"tbl_fc_events\")\n",
    "tbl_fc_events = os.path.join(intermediate_gdb, 'tbl_fc_events')\n",
    "\n",
    "# Clip FC with threshold_blocks\n",
    "fc_threshold_blocks = os.path.join(intermediate_gdb, 'fc_threshold_blocks')\n",
    "arcpy.PairwiseClip_analysis(tbl_fc_events, threshold_blocks, fc_threshold_blocks)\n",
    "\n"
   ]
  },
  {
   "cell_type": "code",
   "execution_count": 5,
   "metadata": {},
   "outputs": [],
   "source": [
    "# Recalculate begin and end measures\n",
    "fc_threshold_blocks_singlepart = os.path.join(intermediate_gdb, 'fc_threshold_blocks_singlepart')\n",
    "arcpy.MultipartToSinglepart_management(fc_threshold_blocks, fc_threshold_blocks_singlepart)\n",
    "with arcpy.da.UpdateCursor(fc_threshold_blocks_singlepart, ['SHAPE@', 'BEGIN_MSR', 'END_MSR']) as cur:\n",
    "    for row in cur:\n",
    "        geom = row[0]\n",
    "        begin_msr = geom.firstPoint.M\n",
    "        end_msr = geom.lastPoint.M\n",
    "        row[1] = begin_msr\n",
    "        row[2] = end_msr\n",
    "        cur.updateRow(row)"
   ]
  },
  {
   "cell_type": "code",
   "execution_count": 6,
   "metadata": {},
   "outputs": [
    {
     "data": {
      "text/html": [
       "<div class='gpresult'><h2>Messages</h2><div id='messages' data-messages='[\"Start Time: Friday, November 17, 2023 11:39:48 AM\",\"Succeeded at Friday, November 17, 2023 11:39:58 AM (Elapsed Time: 9.20 seconds)\"]' data-show='true'><div id = 'default' /></div></div>"
      ],
      "text/plain": [
       "<Result 'C:\\\\Users\\\\daniel.fourquet\\\\Documents\\\\Tasks\\\\VTrans Update\\\\Mid-Term Needs\\\\Need for Transit Access for Equity Emphasis Areas\\\\data\\\\intermediate.gdb\\\\transit_access_RN_Overlay'>"
      ]
     },
     "execution_count": 6,
     "metadata": {},
     "output_type": "execute_result"
    }
   ],
   "source": [
    "# Overlay with RN to only include segments within RN\n",
    "\n",
    "# Convert fc_threshold_blocks_singlepart to event table\n",
    "tbl_fc_threshold_blocks_singlepart = os.path.join(intermediate_gdb, 'tbl_fc_threshold_blocks_singlepart')\n",
    "arcpy.TableToTable_conversion(fc_threshold_blocks_singlepart, intermediate_gdb, 'tbl_fc_threshold_blocks_singlepart')\n",
    "\n",
    "# Overlay with RN\n",
    "transit_access_RN_Overlay = os.path.join(intermediate_gdb, 'transit_access_RN_Overlay')\n",
    "arcpy.lr.OverlayRouteEvents(tbl_fc_threshold_blocks_singlepart, 'RTE_NM LINE BEGIN_MSR END_MSR', RN, 'RTE_NM LINE BEGIN_MSR END_MSR', 'INTERSECT', transit_access_RN_Overlay, 'RTE_NM LINE BEGIN_MSR END_MSR', zero_length_events='NO_ZERO')\n"
   ]
  },
  {
   "cell_type": "code",
   "execution_count": 9,
   "metadata": {},
   "outputs": [
    {
     "data": {
      "text/html": [
       "<div>\n",
       "<style scoped>\n",
       "    .dataframe tbody tr th:only-of-type {\n",
       "        vertical-align: middle;\n",
       "    }\n",
       "\n",
       "    .dataframe tbody tr th {\n",
       "        vertical-align: top;\n",
       "    }\n",
       "\n",
       "    .dataframe thead th {\n",
       "        text-align: right;\n",
       "    }\n",
       "</style>\n",
       "<table border=\"1\" class=\"dataframe\">\n",
       "  <thead>\n",
       "    <tr style=\"text-align: right;\">\n",
       "      <th></th>\n",
       "      <th>RTE_NM</th>\n",
       "      <th>BEGIN_MSR</th>\n",
       "      <th>END_MSR</th>\n",
       "      <th>RN_Transit_Equity</th>\n",
       "    </tr>\n",
       "  </thead>\n",
       "  <tbody>\n",
       "    <tr>\n",
       "      <th>0</th>\n",
       "      <td>R-VA   IS00064EB</td>\n",
       "      <td>118.970983</td>\n",
       "      <td>119.525384</td>\n",
       "      <td>YES</td>\n",
       "    </tr>\n",
       "    <tr>\n",
       "      <th>1</th>\n",
       "      <td>R-VA   IS00064EB</td>\n",
       "      <td>181.527467</td>\n",
       "      <td>181.685242</td>\n",
       "      <td>YES</td>\n",
       "    </tr>\n",
       "    <tr>\n",
       "      <th>2</th>\n",
       "      <td>R-VA   IS00064EB</td>\n",
       "      <td>195.203631</td>\n",
       "      <td>195.830000</td>\n",
       "      <td>YES</td>\n",
       "    </tr>\n",
       "    <tr>\n",
       "      <th>3</th>\n",
       "      <td>R-VA   IS00064EB</td>\n",
       "      <td>195.830000</td>\n",
       "      <td>195.931129</td>\n",
       "      <td>YES</td>\n",
       "    </tr>\n",
       "    <tr>\n",
       "      <th>4</th>\n",
       "      <td>R-VA   IS00064EB</td>\n",
       "      <td>195.830000</td>\n",
       "      <td>195.830000</td>\n",
       "      <td>YES</td>\n",
       "    </tr>\n",
       "    <tr>\n",
       "      <th>...</th>\n",
       "      <td>...</td>\n",
       "      <td>...</td>\n",
       "      <td>...</td>\n",
       "      <td>...</td>\n",
       "    </tr>\n",
       "    <tr>\n",
       "      <th>2581</th>\n",
       "      <td>S-VA212PR POSSUM POINT RD</td>\n",
       "      <td>0.000000</td>\n",
       "      <td>0.781820</td>\n",
       "      <td>YES</td>\n",
       "    </tr>\n",
       "    <tr>\n",
       "      <th>2582</th>\n",
       "      <td>S-VA253NP DRY MILL RD SW</td>\n",
       "      <td>1.125532</td>\n",
       "      <td>1.330000</td>\n",
       "      <td>YES</td>\n",
       "    </tr>\n",
       "    <tr>\n",
       "      <th>2583</th>\n",
       "      <td>S-VA253NP EVERGREEN MILL RD SE</td>\n",
       "      <td>0.000000</td>\n",
       "      <td>0.012084</td>\n",
       "      <td>YES</td>\n",
       "    </tr>\n",
       "    <tr>\n",
       "      <th>2584</th>\n",
       "      <td>S-VA253PR DRY MILL RD SW</td>\n",
       "      <td>1.125532</td>\n",
       "      <td>1.330000</td>\n",
       "      <td>YES</td>\n",
       "    </tr>\n",
       "    <tr>\n",
       "      <th>2585</th>\n",
       "      <td>S-VA253PR EVERGREEN MILL RD SE</td>\n",
       "      <td>0.000000</td>\n",
       "      <td>0.012084</td>\n",
       "      <td>YES</td>\n",
       "    </tr>\n",
       "  </tbody>\n",
       "</table>\n",
       "<p>2572 rows × 4 columns</p>\n",
       "</div>"
      ],
      "text/plain": [
       "                              RTE_NM   BEGIN_MSR     END_MSR RN_Transit_Equity\n",
       "0                   R-VA   IS00064EB  118.970983  119.525384               YES\n",
       "1                   R-VA   IS00064EB  181.527467  181.685242               YES\n",
       "2                   R-VA   IS00064EB  195.203631  195.830000               YES\n",
       "3                   R-VA   IS00064EB  195.830000  195.931129               YES\n",
       "4                   R-VA   IS00064EB  195.830000  195.830000               YES\n",
       "...                              ...         ...         ...               ...\n",
       "2581       S-VA212PR POSSUM POINT RD    0.000000    0.781820               YES\n",
       "2582        S-VA253NP DRY MILL RD SW    1.125532    1.330000               YES\n",
       "2583  S-VA253NP EVERGREEN MILL RD SE    0.000000    0.012084               YES\n",
       "2584        S-VA253PR DRY MILL RD SW    1.125532    1.330000               YES\n",
       "2585  S-VA253PR EVERGREEN MILL RD SE    0.000000    0.012084               YES\n",
       "\n",
       "[2572 rows x 4 columns]"
      ]
     },
     "execution_count": 9,
     "metadata": {},
     "output_type": "execute_result"
    }
   ],
   "source": [
    "# Clean up needs event table in Pandas\n",
    "transit_access_fields = [field.name for field in arcpy.ListFields(transit_access_RN_Overlay) if field.name not in ('OBJECTID', 'Shape', 'ORIG_FID', 'Shape_Length', 'RN')]\n",
    "df_transit_access = pd.DataFrame([row for row in arcpy.da.SearchCursor(transit_access_RN_Overlay, transit_access_fields)], columns=transit_access_fields)\n",
    "df_transit_access['RN_Transit_Equity'] = 'YES'\n",
    "\n",
    "# Filter out ramps and non-local functional classification\n",
    "df_transit_access = df_transit_access.loc[df_transit_access['STATE_FUNCT_CLASS_ID'] < 7]\n",
    "df_transit_access.drop(columns='STATE_FUNCT_CLASS_ID', axis=1, inplace=True)\n",
    "df_transit_access"
   ]
  },
  {
   "cell_type": "code",
   "execution_count": 10,
   "metadata": {},
   "outputs": [
    {
     "data": {
      "text/html": [
       "<div class='gpresult'><h2>Messages</h2><div id='messages' data-messages='[\"Start Time: Friday, November 17, 2023 11:43:24 AM\",\"Succeeded at Friday, November 17, 2023 11:43:31 AM (Elapsed Time: 7.84 seconds)\"]' data-show='true'><div id = 'default' /></div></div>"
      ],
      "text/plain": [
       "<Result 'C:\\\\Users\\\\daniel.fourquet\\\\Documents\\\\Tasks\\\\VTrans Update\\\\Mid-Term Needs\\\\Need for Transit Access for Equity Emphasis Areas\\\\data\\\\output.gdb\\\\Transit_Access_EAA'>"
      ]
     },
     "execution_count": 10,
     "metadata": {},
     "output_type": "execute_result"
    }
   ],
   "source": [
    "# Create final output\n",
    "output_csv = os.path.join(os.path.dirname(intermediate_gdb), 'output.csv')\n",
    "df_transit_access.to_csv(output_csv, index=False)\n",
    "\n",
    "# Make gdb event table\n",
    "arcpy.TableToTable_conversion(output_csv, output_gdb, 'tbl_transit_access_eaa')\n",
    "\n",
    "# Make route event layer\n",
    "arcpy.lr.MakeRouteEventLayer(LRS, \"RTE_NM\", output_csv, \"RTE_NM; Line; BEGIN_MSR; END_MSR\", \"tbl_transit_access Events\", None, \"NO_ERROR_FIELD\", \"NO_ANGLE_FIELD\", \"NORMAL\", \"ANGLE\", \"LEFT\", \"POINT\")\n",
    "arcpy.conversion.FeatureClassToFeatureClass(\"tbl_transit_access Events\", output_gdb, \"Transit_Access_EAA\")"
   ]
  },
  {
   "cell_type": "code",
   "execution_count": null,
   "metadata": {},
   "outputs": [],
   "source": []
  }
 ],
 "metadata": {
  "kernelspec": {
   "display_name": "Python 3.7.11 64-bit ('arcgispro-py3')",
   "language": "python",
   "name": "python3"
  },
  "language_info": {
   "codemirror_mode": {
    "name": "ipython",
    "version": 3
   },
   "file_extension": ".py",
   "mimetype": "text/x-python",
   "name": "python",
   "nbconvert_exporter": "python",
   "pygments_lexer": "ipython3",
   "version": "3.7.11"
  },
  "orig_nbformat": 4,
  "vscode": {
   "interpreter": {
    "hash": "ce21b655b4d6c9e397d5ad93d5666c623f49909f6d0cc2f72076dafcf1b3ecfb"
   }
  }
 },
 "nbformat": 4,
 "nbformat_minor": 2
}
