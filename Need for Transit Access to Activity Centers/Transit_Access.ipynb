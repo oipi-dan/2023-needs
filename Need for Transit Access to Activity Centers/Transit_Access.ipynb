{
 "cells": [
  {
   "cell_type": "markdown",
   "metadata": {},
   "source": [
    "# Need Category: Need for Transit Access to Activity Centers #\n",
    "\n",
    "**Measure**: Transit Access to Activity Centers for Workers\n",
    "\n",
    "**What it means**: Number of people that can access a given VTrans Activity Center via public transit versus a private\n",
    "automobile. VTrans Activity Centers are identified as “areas of regional importance that have a high density of economic\n",
    "and social activity” and are associated with the Regional Networks Travel Market. Activity Centers have been identified\n",
    "through stakeholder input.\n",
    "\n",
    "**Applicable VTrans Travel Markets**: RN\n",
    "\n",
    "**Year of analysis**: 2020"
   ]
  },
  {
   "cell_type": "markdown",
   "metadata": {},
   "source": [
    "### Code ###\n",
    "\n",
    "The employment data was calculated by TMPD.  The script below makes use of that data to apply needs to the LRS."
   ]
  },
  {
   "cell_type": "code",
   "execution_count": 1,
   "metadata": {},
   "outputs": [],
   "source": [
    "import arcpy\n",
    "import os\n",
    "import pandas as pd\n",
    "\n",
    "arcpy.env.overwriteOutput = True\n",
    "\n",
    "\n",
    "main_path = os.path.dirname(os.path.dirname(os.path.abspath(__file__)))\n",
    "common_datasets_gdb = os.path.join(main_path, r'A1 - Common Datasets\\Common_Datasets.gdb')\n",
    "\n",
    "# Paths to intermediate and output geodatabases\n",
    "intermediate_gdb = f\"{main_path}\\\\A1 - Common Datasets\\\\Need for Transit Access to Activity Centers\\\\data\\\\intermediate.gdb\"\n",
    "output_gdb = f\"{main_path}\\\\A1 - Common Datasets\\\\Need for Transit Access to Activity Centers\\\\data\\\\output.gdb\"\n",
    "\n",
    "# Create gdbs if do not exist\n",
    "for gdb_path in [intermediate_gdb, output_gdb]:\n",
    "    if os.path.exists(os.path.dirname(gdb_path)):\n",
    "        if not os.path.exists(gdb_path):\n",
    "            arcpy.management.CreateFileGDB(os.path.dirname(gdb_path), os.path.basename(gdb_path))\n",
    "    else:\n",
    "        raise Exception(f'Path for GDB does not exist: \\n{os.path.dirname(gdb_path)}')\n",
    "\n",
    "# Regional Networks polygon\n",
    "RN = f'{common_datasets_gdb}\\\\RegionalNetworks'\n",
    "\n",
    "# Overlap LRS\n",
    "LRS = f'{common_datasets_gdb}\\\\SDE_VDOT_RTE_OVERLAP_LRS_DY'\n",
    "\n",
    "# Functional Classification event table\n",
    "TBL_FC = f'{common_datasets_gdb}\\\\tbl_fc23'\n",
    "\n",
    "# Regional Networks event table\n",
    "TBL_RN = f'{common_datasets_gdb}\\\\tbl_rn'\n",
    "\n",
    "# Analysis results as an Activity Center point shapefile\n",
    "AC_Results = f'{main_path}\\\\A1 - Common Datasets\\\\Need for Transit Access to Activity Centers\\\\data\\\\ActivityCenterShp\\\\Activity_Center 2023-09-14.shp'\n",
    "\n",
    "# Transit commute time from census.  Must be downloaded using CreateTables.py before this script is run\n",
    "Transit_Commute_Time = f'{main_path}\\\\A1 - Common Datasets\\\\Need for Transit Access to Activity Centers\\\\data\\\\output.gdb\\\\Transit_Commute_Time'"
   ]
  },
  {
   "cell_type": "code",
   "execution_count": 2,
   "metadata": {},
   "outputs": [
    {
     "data": {
      "text/html": [
       "<div class='gpresult'><h2>Messages</h2><div id='messages' data-messages='[\"Start Time: Wednesday, November 15, 2023 12:26:22 PM\",\"Sorting Attributes...\",\"Dissolving...\",\"Succeeded at Wednesday, November 15, 2023 12:26:23 PM (Elapsed Time: 1.50 seconds)\"]' data-show='true'><div id = 'default' /></div></div>"
      ],
      "text/plain": [
       "<Result 'C:\\\\Users\\\\daniel.fourquet\\\\Documents\\\\Tasks\\\\VTrans Update\\\\Mid-Term Needs\\\\Need for Transit Access to Activity Centers\\\\data\\\\intermediate.gdb\\\\RN_Commute_Times'>"
      ]
     },
     "execution_count": 2,
     "metadata": {},
     "output_type": "execute_result"
    }
   ],
   "source": [
    "# Join county level census data on Means of Transprotation to Work to RNs\n",
    "\n",
    "# Spatial Join counties to RNs\n",
    "RN_Spatial_Join = os.path.join(intermediate_gdb, 'RN_Spatial_Join')\n",
    "arcpy.analysis.SpatialJoin(RN, Transit_Commute_Time, RN_Spatial_Join, \"JOIN_ONE_TO_MANY\", \"KEEP_ALL\", 'RN_Name \"Name\" true true false 254 Text 0 0,First,#,RegionalNetworks,RN_Name,0,254;Includes \"Includes Counties/Cities Of\" true true false 254 Text 0 0,First,#,RegionalNetworks,Includes,0,254;Shape_Length \"Shape_Length\" false true true 8 Double 0 0,First,#,RegionalNetworks,Shape_Length,-1,-1,Transit_Commute_Time,Shape_Length,-1,-1;Shape_Area \"Shape_Area\" false true true 8 Double 0 0,First,#,RegionalNetworks,Shape_Area,-1,-1,Transit_Commute_Time,Shape_Area,-1,-1;COUNTYNS \"COUNTYNS\" true true false 8 Text 0 0,First,#,Transit_Commute_Time,COUNTYNS,0,8;GEO_ID \"GEOID\" true true false 5 Text 0 0,First,#,Transit_Commute_Time,GEO_ID,0,5;NAMELSAD \"NAMELSAD\" true true false 100 Text 0 0,First,#,Transit_Commute_Time,NAMELSAD,0,100;CLASSFP \"CLASSFP\" true true false 2 Text 0 0,First,#,Transit_Commute_Time,CLASSFP,0,2;FUNCSTAT \"FUNCSTAT\" true true false 1 Text 0 0,First,#,Transit_Commute_Time,FUNCSTAT,0,1;ALAND \"ALAND\" true true false 8 Double 0 0,First,#,Transit_Commute_Time,ALAND,-1,-1;AWATER \"AWATER\" true true false 8 Double 0 0,First,#,Transit_Commute_Time,AWATER,-1,-1;INTPTLAT \"INTPTLAT\" true true false 11 Text 0 0,First,#,Transit_Commute_Time,INTPTLAT,0,11;INTPTLON \"INTPTLON\" true true false 12 Text 0 0,First,#,Transit_Commute_Time,INTPTLON,0,12;B08134_061E \"Estimate!!Total:!!Public transportation (excluding taxicab)\" true true false 4 Long 0 0,First,#,Transit_Commute_Time,B08134_061E,-1,-1;B08134_062E \"LT 10 min\" true true false 4 Long 0 0,First,#,Transit_Commute_Time,B08134_062E,-1,-1;B08134_063E \"10-14 min\" true true false 4 Long 0 0,First,#,Transit_Commute_Time,B08134_063E,-1,-1;B08134_064E \"15-19 min\" true true false 4 Long 0 0,First,#,Transit_Commute_Time,B08134_064E,-1,-1;B08134_065E \"20-24 min\" true true false 4 Long 0 0,First,#,Transit_Commute_Time,B08134_065E,-1,-1;B08134_066E \"25-29 min\" true true false 4 Long 0 0,First,#,Transit_Commute_Time,B08134_066E,-1,-1;B08134_067E \"30-34 min\" true true false 4 Long 0 0,First,#,Transit_Commute_Time,B08134_067E,-1,-1;B08134_068E \"35-44 min\" true true false 4 Long 0 0,First,#,Transit_Commute_Time,B08134_068E,-1,-1;B08134_069E \"45-59 min\" true true false 4 Long 0 0,First,#,Transit_Commute_Time,B08134_069E,-1,-1;B08134_070E \"GT 60 min\" true true false 4 Long 0 0,First,#,Transit_Commute_Time,B08134_070E,-1,-1', \"INTERSECT\", None, '')\n",
    "\n",
    "# Dissolve spatial join, summing all statistics\n",
    "RN_Commute_Times = os.path.join(intermediate_gdb, 'RN_Commute_Times')\n",
    "arcpy.management.Dissolve(RN_Spatial_Join, RN_Commute_Times, \"RN_Name\", \"B08134_061E SUM;B08134_062E SUM;B08134_063E SUM;B08134_064E SUM;B08134_065E SUM;B08134_066E SUM;B08134_067E SUM;B08134_068E SUM;B08134_069E SUM;B08134_070E SUM\", \"MULTI_PART\", \"DISSOLVE_LINES\")"
   ]
  },
  {
   "cell_type": "code",
   "execution_count": 3,
   "metadata": {},
   "outputs": [],
   "source": [
    "# Convert commute times by RN to dataframe\n",
    "commute_time_fields = [field.name for field in arcpy.ListFields(RN_Commute_Times) if field.name not in ('OBJECTID', 'Shape', 'Shape_Length', 'Shape_Area')]\n",
    "field_aliases = [\n",
    "        'RN Name', \n",
    "        'Estimate!!Total:!!Public transportation (excluding taxicab)',\n",
    "        'LT 10 min',\n",
    "        '10-14 min',\n",
    "        '15-19 min',\n",
    "        '20-24 min',\n",
    "        '25-29 min',\n",
    "        '30-34 min',\n",
    "        '35-44 min',\n",
    "        '45-59 min',\n",
    "        'GT 60 min'\n",
    "    ]\n",
    "df_rn_commute_times = pd.DataFrame([row for row in arcpy.da.SearchCursor(RN_Commute_Times, commute_time_fields)], columns=field_aliases)"
   ]
  },
  {
   "cell_type": "code",
   "execution_count": 4,
   "metadata": {},
   "outputs": [],
   "source": [
    "# Identify the median transit commute time as the midpoint of the travel time bin containing the 50th percentile transit commuter\n",
    "df_rn_commute_times['mid-commuter'] = df_rn_commute_times['Estimate!!Total:!!Public transportation (excluding taxicab)']/2"
   ]
  },
  {
   "cell_type": "code",
   "execution_count": 5,
   "metadata": {},
   "outputs": [],
   "source": [
    "\n",
    "\n",
    "# Cumulative Buckets\n",
    "df_rn_commute_times['C LT 10'] = df_rn_commute_times['LT 10 min']\n",
    "df_rn_commute_times['C 10-14'] = df_rn_commute_times['C LT 10'] + df_rn_commute_times['10-14 min']\n",
    "df_rn_commute_times['C 15-19'] = df_rn_commute_times['C 10-14'] + df_rn_commute_times['15-19 min']\n",
    "df_rn_commute_times['C 20-24'] = df_rn_commute_times['C 15-19'] + df_rn_commute_times['20-24 min']\n",
    "df_rn_commute_times['C 25-29'] = df_rn_commute_times['C 20-24'] + df_rn_commute_times['25-29 min']\n",
    "df_rn_commute_times['C 30-34'] = df_rn_commute_times['C 25-29'] + df_rn_commute_times['30-34 min']\n",
    "df_rn_commute_times['C 35-44'] = df_rn_commute_times['C 30-34'] + df_rn_commute_times['35-44 min']\n",
    "df_rn_commute_times['C 45-59'] = df_rn_commute_times['C 35-44'] + df_rn_commute_times['45-59 min']\n",
    "df_rn_commute_times['C GT 60'] = df_rn_commute_times['C 45-59'] + df_rn_commute_times['GT 60 min']\n",
    "\n",
    "\n",
    "bucket_median_dict = {\n",
    "    'LT 10 min': 5,\n",
    "    '10-14 min': 12,\n",
    "    '15-19 min': 17,\n",
    "    '20-24 min': 22,\n",
    "    '25-29 min': 27,\n",
    "    '30-34 min': 32,\n",
    "    '35-44 min': 40,\n",
    "    '45-59 min': 52,\n",
    "    'GT 60 min': 65\n",
    "}\n",
    "\n",
    "def get_median(row):   \n",
    "    mid_commuter = row['mid-commuter']\n",
    "\n",
    "    if mid_commuter < row['C LT 10']:\n",
    "        return 'LT 10 min'\n",
    "    if mid_commuter >= row['C LT 10'] and mid_commuter < row['C 10-14']:\n",
    "        return '10-14 min'\n",
    "    if mid_commuter >= row['C 10-14'] and mid_commuter < row['C 15-19']:\n",
    "        return '15-19 min'\n",
    "    if mid_commuter >= row['C 15-19'] and mid_commuter < row['C 20-24']:\n",
    "        return '20-24 min'\n",
    "    if mid_commuter >= row['C 20-24'] and mid_commuter < row['C 25-29']:\n",
    "        return '25-29 min'\n",
    "    if mid_commuter >= row['C 25-29'] and mid_commuter < row['C 30-34']:\n",
    "        return '30-34 min'\n",
    "    if mid_commuter >= row['C 30-34'] and mid_commuter < row['C 35-44']:\n",
    "        return '35-44 min'\n",
    "    if mid_commuter >= row['C 35-44'] and mid_commuter < row['C 45-59']:\n",
    "        return '45-59 min'\n",
    "\n",
    "    return 'GT 60 min'\n",
    "\n",
    "df_rn_commute_times['median commute time bucket'] = df_rn_commute_times.apply(get_median, axis=1)\n",
    "\n",
    "df_rn_commute_times['median commute time'] = df_rn_commute_times.apply(lambda x: bucket_median_dict[x['median commute time bucket']], axis=1)"
   ]
  },
  {
   "cell_type": "code",
   "execution_count": 6,
   "metadata": {},
   "outputs": [],
   "source": [
    "# Convert the value to a distance by multiplying it by the average travel speed of a bus (12 mph).\n",
    "df_rn_commute_times['distance'] = (df_rn_commute_times['median commute time'] / 60) * 12\n",
    "\n",
    "# Create a dictionary containing the RN Name: buffer distance calculated above\n",
    "buffer_distance_dict = df_rn_commute_times[['RN Name', 'distance']].set_index('RN Name').to_dict()['distance']"
   ]
  },
  {
   "cell_type": "code",
   "execution_count": 7,
   "metadata": {},
   "outputs": [],
   "source": [
    "# Spatial join ACs with RNs\n",
    "AC_Spatial_Join = os.path.join(intermediate_gdb, 'AC_Spatial_Join')\n",
    "arcpy.analysis.SpatialJoin(AC_Results, RN, AC_Spatial_Join, \"JOIN_ONE_TO_ONE\", \"KEEP_ALL\", 'ID \"ID\" true true false 10 Long 0 10,First,#,Activity_Center 2023-09-14,ID,-1,-1;OBJECTID \"OBJECTID\" true true false 10 Long 0 10,First,#,Activity_Center 2023-09-14,OBJECTID,-1,-1;ACTVTYC \"ACTVTYC\" true true false 80 Text 0 0,First,#,Activity_Center 2023-09-14,ACTVTYC,0,80;REGION \"REGION\" true true false 80 Text 0 0,First,#,Activity_Center 2023-09-14,REGION,0,80;C000 \"C000\" true true false 19 Double 11 18,First,#,Activity_Center 2023-09-14,C000,-1,-1;PRMRY_C \"PRMRY_C\" true true false 80 Text 0 0,First,#,Activity_Center 2023-09-14,PRMRY_C,0,80;SH_FREG \"SH_FREG\" true true false 19 Double 11 18,First,#,Activity_Center 2023-09-14,SH_FREG,-1,-1;SH_LOCL \"SH_LOCL\" true true false 19 Double 11 18,First,#,Activity_Center 2023-09-14,SH_LOCL,-1,-1;SH_KNWL \"SH_KNWL\" true true false 19 Double 11 18,First,#,Activity_Center 2023-09-14,SH_KNWL,-1,-1;DISTRICT \"DISTRICT\" true true false 64 Text 0 0,First,#,Activity_Center 2023-09-14,DISTRICT,0,64;POP20_AUTO \"POP20_AUTO\" true true false 10 Double 2 9,First,#,Activity_Center 2023-09-14,POP20_AUTO,-1,-1;CNT_AUTO \"CNT_AUTO\" true true false 8 Long 0 8,First,#,Activity_Center 2023-09-14,CNT_AUTO,-1,-1;POP20_TRAN \"POP20_TRAN\" true true false 10 Double 2 9,First,#,Activity_Center 2023-09-14,POP20_TRAN,-1,-1;CNT_TRANSI \"CNT_TRANSI\" true true false 8 Long 0 8,First,#,Activity_Center 2023-09-14,CNT_TRANSI,-1,-1;ACCESS_DIF \"ACCESS_DIF\" true true false 10 Double 2 9,First,#,Activity_Center 2023-09-14,ACCESS_DIF,-1,-1;EMP20 \"EMP20\" true true false 10 Double 2 9,First,#,Activity_Center 2023-09-14,EMP20,-1,-1;DIFFPOP_EM \"DIFFPOP_EM\" true true false 10 Double 2 9,First,#,Activity_Center 2023-09-14,DIFFPOP_EM,-1,-1;RN_Name \"Name\" true true false 254 Text 0 0,First,#,RegionalNetworks,RN_Name,0,254;Includes \"Includes Counties/Cities Of\" true true false 254 Text 0 0,First,#,RegionalNetworks,Includes,0,254;Shape_Length \"Shape_Length\" false true true 8 Double 0 0,First,#,RegionalNetworks,Shape_Length,-1,-1;Shape_Area \"Shape_Area\" false true true 8 Double 0 0,First,#,RegionalNetworks,Shape_Area,-1,-1', \"INTERSECT\", None, '')\n",
    "\n",
    "# Create a dictionary containing the AC ID: RN Name\n",
    "ac_rn_dict = {row[0]:row[1] for row in arcpy.da.SearchCursor(AC_Spatial_Join, ['ID', 'RN_Name'])}"
   ]
  },
  {
   "cell_type": "code",
   "execution_count": 8,
   "metadata": {},
   "outputs": [],
   "source": [
    "# Add RN_Name and Buffer_Distance fields to ACs if it does not yet exist\n",
    "AC_Fields = [field.name for field in arcpy.ListFields(AC_Results)]\n",
    "if 'RN_Name' not in AC_Fields:\n",
    "    arcpy.AddField_management(AC_Results, 'RN_Name', 'TEXT')\n",
    "if 'Buffer_Dis' not in AC_Fields:\n",
    "    arcpy.AddField_management(AC_Results, 'Buffer_Dis', 'TEXT')\n",
    "\n",
    "# Caclulate the RN_Name and Buffer_Distance fields based on dictionaries created above\n",
    "with arcpy.da.UpdateCursor(AC_Results, ['ID', 'RN_Name', 'Buffer_Dis']) as cur:\n",
    "    for row in cur:\n",
    "        rn_name = ac_rn_dict.get(row[0]) if ac_rn_dict.get(row[0]) else 'None'\n",
    "        buffer_distance = buffer_distance_dict.get(rn_name)\n",
    "\n",
    "        row[1] = rn_name\n",
    "\n",
    "        if rn_name == 'None':\n",
    "            row[2] = '5.4 MILES'\n",
    "        else:\n",
    "            row[2] = f'{buffer_distance} MILES'\n",
    "\n",
    "        cur.updateRow(row)"
   ]
  },
  {
   "cell_type": "code",
   "execution_count": 9,
   "metadata": {},
   "outputs": [
    {
     "data": {
      "text/html": [
       "<div class='gpresult'><h2>Messages</h2><div id='messages' data-messages='[\"Start Time: Wednesday, November 15, 2023 12:26:26 PM\",\"Succeeded at Wednesday, November 15, 2023 12:26:26 PM (Elapsed Time: 0.80 seconds)\"]' data-show='true'><div id = 'default' /></div></div>"
      ],
      "text/plain": [
       "<Result 'C:\\\\Users\\\\daniel.fourquet\\\\Documents\\\\Tasks\\\\VTrans Update\\\\Mid-Term Needs\\\\Need for Transit Access to Activity Centers\\\\data\\\\intermediate.gdb\\\\AC_Buffer'>"
      ]
     },
     "execution_count": 9,
     "metadata": {},
     "output_type": "execute_result"
    }
   ],
   "source": [
    "# Buffer ACs on Buffer_Dis\n",
    "AC_Buffer = os.path.join(intermediate_gdb, 'AC_Buffer')\n",
    "arcpy.Buffer_analysis(AC_Results, AC_Buffer, 'Buffer_Dis')"
   ]
  },
  {
   "cell_type": "code",
   "execution_count": 10,
   "metadata": {},
   "outputs": [
    {
     "data": {
      "text/html": [
       "<div class='gpresult'><h2>Messages</h2><div id='messages' data-messages='[\"Start Time: Wednesday, November 15, 2023 12:26:28 PM\",\"Dissolving...\",\"Succeeded at Wednesday, November 15, 2023 12:26:29 PM (Elapsed Time: 0.79 seconds)\"]' data-show='true'><div id = 'default' /></div></div>"
      ],
      "text/plain": [
       "<Result 'C:\\\\Users\\\\daniel.fourquet\\\\Documents\\\\Tasks\\\\VTrans Update\\\\Mid-Term Needs\\\\Need for Transit Access to Activity Centers\\\\data\\\\intermediate.gdb\\\\AC_Buffer_w_Need_Dissolved'>"
      ]
     },
     "execution_count": 10,
     "metadata": {},
     "output_type": "execute_result"
    }
   ],
   "source": [
    "# Identify ACs that meet threshold - Activity Centers, where fewer population can access the\n",
    "# Activity Center within 45 minutes by transit than by automobile are identified as those with a VTrans Mid-term Need for\n",
    "# Transit Access to Activity Centers.\n",
    "\n",
    "# POP20_AUTO - Population access to AC within 45 min by auto \n",
    "# POP20_TRAN - Population access to AC within 45 min by transit\n",
    "\n",
    "if 'need' not in [field.name for field in arcpy.ListFields(AC_Buffer)]:\n",
    "    arcpy.AddField_management(AC_Buffer, 'need', 'TEXT')\n",
    "\n",
    "with arcpy.da.UpdateCursor(AC_Buffer, ['POP20_AUTO', 'POP20_TRAN', 'need']) as cur:\n",
    "    for row in cur:\n",
    "        if row[1] < row[0]:\n",
    "            row[2] = 'YES'\n",
    "        else:\n",
    "            row[2] = 'NO'\n",
    "\n",
    "        cur.updateRow(row)\n",
    "\n",
    "# Export only buffered ACs where need = 'YES'\n",
    "AC_Buffer_w_Need = os.path.join(intermediate_gdb, 'AC_Buffer_w_Need')\n",
    "arcpy.FeatureClassToFeatureClass_conversion(AC_Buffer, intermediate_gdb, 'AC_Buffer_w_Need', \"need = 'YES'\")\n",
    "\n",
    "AC_Buffer_w_Need_Dissolved = os.path.join(intermediate_gdb, 'AC_Buffer_w_Need_Dissolved')\n",
    "arcpy.Dissolve_management(AC_Buffer_w_Need, AC_Buffer_w_Need_Dissolved)"
   ]
  },
  {
   "cell_type": "code",
   "execution_count": 11,
   "metadata": {},
   "outputs": [],
   "source": [
    "# Use the Functional Classification layer as a base for segmentation.  Then clip by AC_Buffer to determine the needs\n",
    "\n",
    "# Make FC route event layer\n",
    "arcpy.lr.MakeRouteEventLayer(LRS, \"RTE_NM\", TBL_FC, \"RTE_NM; Line; BEGIN_MSR; END_MSR\", \"tbl_fc Events\", None, \"NO_ERROR_FIELD\", \"NO_ANGLE_FIELD\", \"NORMAL\", \"ANGLE\", \"LEFT\", \"POINT\")\n",
    "arcpy.conversion.FeatureClassToFeatureClass(\"tbl_fc Events\", intermediate_gdb, \"tbl_fc_events\")\n",
    "tbl_fc_events = os.path.join(intermediate_gdb, 'tbl_fc_events')\n",
    "\n",
    "# Clip tbl_fc_events by buffer\n",
    "fc_ac_buffer = os.path.join(intermediate_gdb, 'fc_ac_buffer')\n",
    "arcpy.PairwiseClip_analysis(tbl_fc_events, AC_Buffer_w_Need_Dissolved, fc_ac_buffer)\n",
    "\n",
    "# Recalculate begin and end measures\n",
    "fc_ac_buffer_singlepart = os.path.join(intermediate_gdb, 'fc_ac_buffer_singlepart')\n",
    "arcpy.MultipartToSinglepart_management(fc_ac_buffer, fc_ac_buffer_singlepart)\n",
    "with arcpy.da.UpdateCursor(fc_ac_buffer_singlepart, ['SHAPE@', 'BEGIN_MSR', 'END_MSR']) as cur:\n",
    "    for row in cur:\n",
    "        geom = row[0]\n",
    "        begin_msr = geom.firstPoint.M\n",
    "        end_msr = geom.lastPoint.M\n",
    "        row[1] = begin_msr\n",
    "        row[2] = end_msr\n",
    "        cur.updateRow(row)"
   ]
  },
  {
   "cell_type": "code",
   "execution_count": 12,
   "metadata": {},
   "outputs": [
    {
     "data": {
      "text/html": [
       "<div>\n",
       "<style scoped>\n",
       "    .dataframe tbody tr th:only-of-type {\n",
       "        vertical-align: middle;\n",
       "    }\n",
       "\n",
       "    .dataframe tbody tr th {\n",
       "        vertical-align: top;\n",
       "    }\n",
       "\n",
       "    .dataframe thead th {\n",
       "        text-align: right;\n",
       "    }\n",
       "</style>\n",
       "<table border=\"1\" class=\"dataframe\">\n",
       "  <thead>\n",
       "    <tr style=\"text-align: right;\">\n",
       "      <th></th>\n",
       "      <th>RTE_NM</th>\n",
       "      <th>BEGIN_MSR</th>\n",
       "      <th>END_MSR</th>\n",
       "      <th>RN_AC_Transit_Access</th>\n",
       "    </tr>\n",
       "  </thead>\n",
       "  <tbody>\n",
       "    <tr>\n",
       "      <th>0</th>\n",
       "      <td>S-VA123PR MARKET ST S</td>\n",
       "      <td>0.11</td>\n",
       "      <td>0.23</td>\n",
       "      <td>YES</td>\n",
       "    </tr>\n",
       "    <tr>\n",
       "      <th>1</th>\n",
       "      <td>R-VA   SR00351EB</td>\n",
       "      <td>5.84</td>\n",
       "      <td>6.09</td>\n",
       "      <td>YES</td>\n",
       "    </tr>\n",
       "    <tr>\n",
       "      <th>2</th>\n",
       "      <td>S-VA127PR NORTH AVE</td>\n",
       "      <td>1.48</td>\n",
       "      <td>1.85</td>\n",
       "      <td>YES</td>\n",
       "    </tr>\n",
       "    <tr>\n",
       "      <th>3</th>\n",
       "      <td>R-VA   SR00351EB</td>\n",
       "      <td>8.14</td>\n",
       "      <td>8.74</td>\n",
       "      <td>YES</td>\n",
       "    </tr>\n",
       "    <tr>\n",
       "      <th>4</th>\n",
       "      <td>R-VA   SR00036EB</td>\n",
       "      <td>15.73</td>\n",
       "      <td>15.95</td>\n",
       "      <td>YES</td>\n",
       "    </tr>\n",
       "    <tr>\n",
       "      <th>...</th>\n",
       "      <td>...</td>\n",
       "      <td>...</td>\n",
       "      <td>...</td>\n",
       "      <td>...</td>\n",
       "    </tr>\n",
       "    <tr>\n",
       "      <th>34012</th>\n",
       "      <td>S-VA125NP PEPPERS FERRY RD</td>\n",
       "      <td>0.00</td>\n",
       "      <td>1.10</td>\n",
       "      <td>YES</td>\n",
       "    </tr>\n",
       "    <tr>\n",
       "      <th>34013</th>\n",
       "      <td>R-VA086SC00607SB</td>\n",
       "      <td>1.20</td>\n",
       "      <td>1.65</td>\n",
       "      <td>YES</td>\n",
       "    </tr>\n",
       "    <tr>\n",
       "      <th>34014</th>\n",
       "      <td>R-VA   US00058WBALT001</td>\n",
       "      <td>57.81</td>\n",
       "      <td>58.11</td>\n",
       "      <td>YES</td>\n",
       "    </tr>\n",
       "    <tr>\n",
       "      <th>34015</th>\n",
       "      <td>S-VA128NP BRANDON AVE SW</td>\n",
       "      <td>0.55</td>\n",
       "      <td>0.93</td>\n",
       "      <td>YES</td>\n",
       "    </tr>\n",
       "    <tr>\n",
       "      <th>34016</th>\n",
       "      <td>S-VA128NP BRANDON AVE SW</td>\n",
       "      <td>1.10</td>\n",
       "      <td>1.93</td>\n",
       "      <td>YES</td>\n",
       "    </tr>\n",
       "  </tbody>\n",
       "</table>\n",
       "<p>33828 rows × 4 columns</p>\n",
       "</div>"
      ],
      "text/plain": [
       "                           RTE_NM  BEGIN_MSR  END_MSR RN_AC_Transit_Access\n",
       "0           S-VA123PR MARKET ST S       0.11     0.23                  YES\n",
       "1                R-VA   SR00351EB       5.84     6.09                  YES\n",
       "2             S-VA127PR NORTH AVE       1.48     1.85                  YES\n",
       "3                R-VA   SR00351EB       8.14     8.74                  YES\n",
       "4                R-VA   SR00036EB      15.73    15.95                  YES\n",
       "...                           ...        ...      ...                  ...\n",
       "34012  S-VA125NP PEPPERS FERRY RD       0.00     1.10                  YES\n",
       "34013            R-VA086SC00607SB       1.20     1.65                  YES\n",
       "34014      R-VA   US00058WBALT001      57.81    58.11                  YES\n",
       "34015    S-VA128NP BRANDON AVE SW       0.55     0.93                  YES\n",
       "34016    S-VA128NP BRANDON AVE SW       1.10     1.93                  YES\n",
       "\n",
       "[33828 rows x 4 columns]"
      ]
     },
     "execution_count": 12,
     "metadata": {},
     "output_type": "execute_result"
    }
   ],
   "source": [
    "# Clean up needs event table in Pandas\n",
    "transit_access_fields = [field.name for field in arcpy.ListFields(fc_ac_buffer_singlepart) if field.name not in ('OBJECTID', 'Shape', 'ORIG_FID', 'Shape_Length')]\n",
    "df_transit_access = pd.DataFrame([row for row in arcpy.da.SearchCursor(fc_ac_buffer_singlepart, transit_access_fields)], columns=transit_access_fields)\n",
    "df_transit_access['RN_AC_Transit_Access'] = 'YES'\n",
    "\n",
    "# Filter out ramps and non-local functional classification\n",
    "df_transit_access = df_transit_access.loc[df_transit_access['STATE_FUNCT_CLASS_ID'] < 7]\n",
    "df_transit_access.drop(columns='STATE_FUNCT_CLASS_ID', axis=1, inplace=True)\n",
    "df_transit_access"
   ]
  },
  {
   "cell_type": "code",
   "execution_count": 13,
   "metadata": {},
   "outputs": [
    {
     "data": {
      "text/html": [
       "<div class='gpresult'><h2>Messages</h2><div id='messages' data-messages='[\"Start Time: Wednesday, November 15, 2023 12:28:28 PM\",\"Succeeded at Wednesday, November 15, 2023 12:29:14 PM (Elapsed Time: 46.27 seconds)\"]' data-show='true'><div id = 'default' /></div></div>"
      ],
      "text/plain": [
       "<Result 'C:\\\\Users\\\\daniel.fourquet\\\\Documents\\\\Tasks\\\\VTrans Update\\\\Mid-Term Needs\\\\Need for Transit Access to Activity Centers\\\\data\\\\output.gdb\\\\Transit_Access'>"
      ]
     },
     "execution_count": 13,
     "metadata": {},
     "output_type": "execute_result"
    }
   ],
   "source": [
    "# Create final output\n",
    "output_csv = os.path.join(os.path.dirname(intermediate_gdb), 'output.csv')\n",
    "df_transit_access.to_csv(output_csv, index=False)\n",
    "\n",
    "# Make gdb event table\n",
    "arcpy.TableToTable_conversion(output_csv, output_gdb, 'tbl_transit_access')\n",
    "\n",
    "# Make route event layer\n",
    "arcpy.lr.MakeRouteEventLayer(LRS, \"RTE_NM\", output_csv, \"RTE_NM; Line; BEGIN_MSR; END_MSR\", \"tbl_transit_access Events\", None, \"NO_ERROR_FIELD\", \"NO_ANGLE_FIELD\", \"NORMAL\", \"ANGLE\", \"LEFT\", \"POINT\")\n",
    "arcpy.conversion.FeatureClassToFeatureClass(\"tbl_transit_access Events\", output_gdb, \"Transit_Access\")"
   ]
  },
  {
   "cell_type": "code",
   "execution_count": null,
   "metadata": {},
   "outputs": [],
   "source": []
  }
 ],
 "metadata": {
  "kernelspec": {
   "display_name": "Python 3.7.11 64-bit ('arcgispro-py3')",
   "language": "python",
   "name": "python3"
  },
  "language_info": {
   "codemirror_mode": {
    "name": "ipython",
    "version": 3
   },
   "file_extension": ".py",
   "mimetype": "text/x-python",
   "name": "python",
   "nbconvert_exporter": "python",
   "pygments_lexer": "ipython3",
   "version": "3.7.11"
  },
  "orig_nbformat": 4,
  "vscode": {
   "interpreter": {
    "hash": "ce21b655b4d6c9e397d5ad93d5666c623f49909f6d0cc2f72076dafcf1b3ecfb"
   }
  }
 },
 "nbformat": 4,
 "nbformat_minor": 2
}
