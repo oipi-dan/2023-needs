{
 "cells": [
  {
   "cell_type": "markdown",
   "metadata": {},
   "source": [
    "# Need Category: Pedestrian Safety #\n",
    "\n",
    "**Measure**: Utilization of roadway segments included in VDOT’s Pedestrian Safety Action Plan (PSAP) Priority 5% Corridors\n",
    "\n",
    "**What it means**: Roadway areas that may require attention based on pedestrian safety factors\n",
    "\n",
    "**Travel Market**: Statewide\n",
    "\n",
    "**Data Sources**:\n",
    "1. VDOT Traffic Engineering, Geospatial database developed for PSAP\n",
    "\n",
    "**Year of Analysis**: 2018, based on calendar year 2012–2016 crash data\n",
    "\n",
    "**Period of analysis**: all days, 24-hour days"
   ]
  },
  {
   "cell_type": "markdown",
   "metadata": {},
   "source": [
    "## Code ##\n",
    "\n",
    "Using PSAP data supplied by VDOT, this code flips events on LRS so that records in both directions exist, then exports the results as an event table that will be used in the final needs layer."
   ]
  },
  {
   "cell_type": "code",
   "execution_count": 1,
   "metadata": {},
   "outputs": [],
   "source": [
    "import arcpy\n",
    "import os\n",
    "import pandas as pd\n",
    "\n",
    "arcpy.env.overwriteOutput = True\n",
    "\n",
    "\n",
    "main_path = os.path.dirname(os.path.dirname(os.path.abspath(__file__)))\n",
    "common_datasets_gdb = os.path.join(main_path, r'A1 - Common Datasets\\Common_Datasets.gdb')\n",
    "\n",
    "intermediate_gdb = f\"{main_path}\\\\A1 - Common Datasets\\\\Pedestrian Safety\\\\data\\\\intermediate.gdb\"\n",
    "output_gdb = f\"{main_path}\\\\A1 - Common Datasets\\\\Pedestrian Safety\\\\data\\\\output.gdb\"\n",
    "\n",
    "# Create gdbs if do not exist\n",
    "for gdb_path in [intermediate_gdb, output_gdb]:\n",
    "    if os.path.exists(os.path.dirname(gdb_path)):\n",
    "        if not os.path.exists(gdb_path):\n",
    "            arcpy.management.CreateFileGDB(os.path.dirname(gdb_path), os.path.basename(gdb_path))\n",
    "    else:\n",
    "        raise Exception(f'Path for GDB does not exist: \\n{os.path.dirname(gdb_path)}')\n",
    "\n",
    "# PSAP data\n",
    "psap = f'{main_path}\\\\A1 - Common Datasets\\\\Pedestrian Safety\\\\data\\\\PSAP4.gdb\\\\psap4'\n",
    "\n",
    "# Overlap LRS\n",
    "lrs = f'{common_datasets_gdb}\\\\SDE_VDOT_RTE_OVERLAP_LRS_DY'"
   ]
  },
  {
   "cell_type": "code",
   "execution_count": 2,
   "metadata": {},
   "outputs": [],
   "source": [
    "# Flip segments that are prime direction on non-one way segments\n",
    "# Add 'flip' field to flag segments to be flipped.  These will be exported to a new feature class,\n",
    "# have the new RTE_NM and m-values recalculated, then added to the final event table.\n",
    "\n",
    "# Add flip field\n",
    "if 'flip' not in [field.name for field in arcpy.ListFields(psap)]:\n",
    "    arcpy.AddField_management(psap, 'flip', 'SHORT')\n",
    "\n",
    "# Identify fields that need to be flipped\n",
    "with arcpy.da.UpdateCursor(psap, ['VDOT_DIVIDED', 'UMIS_FACILITY_TYPE', 'flip']) as cur:\n",
    "    for row in cur:\n",
    "        if row[0] == 'Undivided' and row[1] != '1-One-Way Undivided':\n",
    "            row[2] = 1\n",
    "        else:\n",
    "            row[2] = 0\n",
    "        cur.updateRow(row)"
   ]
  },
  {
   "cell_type": "code",
   "execution_count": 3,
   "metadata": {},
   "outputs": [],
   "source": [
    "# Make opposite route dictionary\n",
    "opp_rte_nm_dict = {row[0]: row[1] for row in arcpy.da.SearchCursor(lrs, ['RTE_NM', 'RTE_OPPOSITE_DIRECTION_RTE_NM'])}"
   ]
  },
  {
   "cell_type": "code",
   "execution_count": 4,
   "metadata": {},
   "outputs": [
    {
     "data": {
      "text/html": [
       "<div class='gpresult'><h2>Messages</h2><div id='messages' data-messages='[\"Start Time: Monday, November 20, 2023 1:33:59 PM\",\"Succeeded at Monday, November 20, 2023 1:34:02 PM (Elapsed Time: 2.76 seconds)\"]' data-show='true'><div id = 'default' /></div></div>"
      ],
      "text/plain": [
       "<Result 'C:\\\\Users\\\\daniel.fourquet\\\\Documents\\\\Tasks\\\\VTrans Update\\\\Mid-Term Needs\\\\Pedestrian Safety\\\\data\\\\intermediate.gdb\\\\psap_to_flip'>"
      ]
     },
     "execution_count": 4,
     "metadata": {},
     "output_type": "execute_result"
    }
   ],
   "source": [
    "# Create new feature class containing only flip segments\n",
    "psap_to_flip = os.path.join(intermediate_gdb, 'psap_to_flip')\n",
    "arcpy.FeatureClassToFeatureClass_conversion(psap, intermediate_gdb, 'psap_to_flip', 'flip = 1')"
   ]
  },
  {
   "cell_type": "code",
   "execution_count": 5,
   "metadata": {},
   "outputs": [],
   "source": [
    "# Flip RTE_NM and recalculate m-value for records in psap_to_flip\n",
    "with arcpy.da.UpdateCursor(psap_to_flip, ['RTE_NM', 'FMEAS', 'TMEAS', 'SHAPE@']) as cur:\n",
    "    for row in cur:\n",
    "        # Flip rte_nm to opposite direction route\n",
    "        rte_nm = row[0]\n",
    "        opp_rte_nm = opp_rte_nm_dict.get(rte_nm)\n",
    "        row[0] = opp_rte_nm\n",
    "\n",
    "        # Calculate new m-values\n",
    "        geom = row[-1]\n",
    "        new_fmeas = geom.firstPoint.M\n",
    "        new_tmeas = geom.lastPoint.M\n",
    "        row[1] = new_fmeas\n",
    "        row[2] = new_tmeas\n",
    "\n",
    "        cur.updateRow(row)\n"
   ]
  },
  {
   "cell_type": "code",
   "execution_count": 6,
   "metadata": {},
   "outputs": [],
   "source": [
    "# Convert original and flipped event tables in pandas dataframes and convert to schema\n",
    "fields_to_keep = ['RTE_NM', 'FMEAS', 'TMEAS']\n",
    "df_original_psap = pd.DataFrame([row for row in arcpy.da.SearchCursor(psap, fields_to_keep)], columns=fields_to_keep)\n",
    "df_flipped_psap = pd.DataFrame([row for row in arcpy.da.SearchCursor(psap_to_flip, fields_to_keep)], columns=fields_to_keep)\n",
    "\n",
    "# DataFrame with both tables\n",
    "df_psap = df_original_psap.append(df_flipped_psap)\n",
    "\n",
    "# Fit to schema\n",
    "df_psap.rename(columns={'FMEAS': 'BEGIN_MSR', 'TMEAS': 'END_MSR'}, inplace=True)\n",
    "df_psap['Safety_Pedestrian'] = 'YES'"
   ]
  },
  {
   "cell_type": "code",
   "execution_count": 7,
   "metadata": {},
   "outputs": [
    {
     "data": {
      "text/html": [
       "<div class='gpresult'><h2>Messages</h2><div id='messages' data-messages='[\"Start Time: Monday, November 20, 2023 1:34:10 PM\",\"Succeeded at Monday, November 20, 2023 1:34:42 PM (Elapsed Time: 31.88 seconds)\"]' data-show='true'><div id = 'default' /></div></div>"
      ],
      "text/plain": [
       "<Result 'C:\\\\Users\\\\daniel.fourquet\\\\Documents\\\\Tasks\\\\VTrans Update\\\\Mid-Term Needs\\\\Pedestrian Safety\\\\data\\\\output.gdb\\\\Pedestrian_Safety_Improvements'>"
      ]
     },
     "execution_count": 7,
     "metadata": {},
     "output_type": "execute_result"
    }
   ],
   "source": [
    "# Export to csv\n",
    "output_csv = os.path.join(os.path.dirname(output_gdb), 'output.csv')\n",
    "df_psap.to_csv(output_csv, index=False)\n",
    "\n",
    "# Make gdb event table\n",
    "arcpy.TableToTable_conversion(output_csv, output_gdb, 'tbl_ped_safety')\n",
    "\n",
    "# Make route event layer\n",
    "arcpy.lr.MakeRouteEventLayer(lrs, \"RTE_NM\", output_csv, \"RTE_NM; Line; BEGIN_MSR; END_MSR\", \"tbl_ped_safety Events\", None, \"NO_ERROR_FIELD\", \"NO_ANGLE_FIELD\", \"NORMAL\", \"ANGLE\", \"LEFT\", \"POINT\")\n",
    "arcpy.conversion.FeatureClassToFeatureClass(\"tbl_ped_safety Events\", output_gdb, \"Pedestrian_Safety_Improvements\")"
   ]
  },
  {
   "cell_type": "code",
   "execution_count": null,
   "metadata": {},
   "outputs": [],
   "source": []
  }
 ],
 "metadata": {
  "kernelspec": {
   "display_name": "Python 3.7.11 64-bit ('arcgispro-py3')",
   "language": "python",
   "name": "python3"
  },
  "language_info": {
   "codemirror_mode": {
    "name": "ipython",
    "version": 3
   },
   "file_extension": ".py",
   "mimetype": "text/x-python",
   "name": "python",
   "nbconvert_exporter": "python",
   "pygments_lexer": "ipython3",
   "version": "3.7.11"
  },
  "orig_nbformat": 4,
  "vscode": {
   "interpreter": {
    "hash": "ce21b655b4d6c9e397d5ad93d5666c623f49909f6d0cc2f72076dafcf1b3ecfb"
   }
  }
 },
 "nbformat": 4,
 "nbformat_minor": 2
}
