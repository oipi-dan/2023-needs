{
 "cells": [
  {
   "cell_type": "markdown",
   "metadata": {},
   "source": [
    "# Need Category: Roadway Safety #\n",
    "\n",
    "**Measure**: Potential for Safety Improvement (PSI)\n",
    "\n",
    "**What it means**: Areas with a higher calculated risk of crashes based on roadway characteristics and observed crash data.\n",
    "\n",
    "**Applicable VTrans Travel Market**: Statewide\n",
    "\n",
    "**Data Sources**:\n",
    "1. Virginia Department of Motor Vehicles - Five-year crash data by location and severity, including intersection\n",
    "and interchange-related crashes and segment-level crashes between intersections or interchanges on limited\n",
    "Access facilities\n",
    "2. VDOT Traffic Engineering Division - PSI Analysis\n",
    "\n",
    "**Year of Analysis**: 2018-2022"
   ]
  },
  {
   "cell_type": "markdown",
   "metadata": {},
   "source": [
    "### Calculations ###\n",
    "1. Merge 2018-2022 crash database with PSI table data.  With this information, the number of crashes by severity can be calculated and related to the PSI values by location.\n",
    "2. Create two sets of tables: One for crashes within 250 feet of an intersection and one for all crashes that occur along segments.\n",
    "3. Identify the following attributes:\n",
    "    - Total crash aggregate five-year PSI\n",
    "    - Fatal and injury crash aggregate five-year PSI\n",
    "    - Number of years PSI analysis identifies a location as having crashes\n",
    "    - Number of years PSI analysis identifies a location as having fatal and injury crashes\n",
    "4. Identify segments and intersections using the PSI ranking and crash thresholds as follows:\n",
    "    - The top 100 (miles for segments, locations for intersections) of VDOT Potential for Safety Improvement (PSI) Intersections and Segments by PSI rank\n",
    "    - Include additional intersections and segments meeting the following criteria:\n",
    "        - Locations on PSI list 2+ years out of last five years\n",
    "        - Locations on Fatal/Injury PSI List 2+ years out of last five years with at least 3+ fatal or injury crashes at the intersection or segment over the last five years\n",
    "5. **Threshold for Need for Roadway Safety**: Roadway segments and intersections meeting the thresholds in Step 4 above are identified as those with a VTrans Mid-term Need for Roadway Safety.\n",
    "6. Assign intersection safety needs to roadway segments using 150' buffers around the intersections."
   ]
  },
  {
   "cell_type": "markdown",
   "metadata": {},
   "source": [
    "### Code ###\n",
    "Steps 1-5 above have been completed by VDOT and delivered as two CSV tables: INT_PSI_OIPI.csv and SEG_PSI_OIPI.csv.  These tables are converted to a needs event table below."
   ]
  },
  {
   "cell_type": "code",
   "execution_count": 2,
   "metadata": {},
   "outputs": [
    {
     "data": {
      "text/plain": [
       "'c:\\\\Users\\\\daniel.fourquet\\\\Documents\\\\Tasks\\\\VTrans Update\\\\2023-needs'"
      ]
     },
     "execution_count": 2,
     "metadata": {},
     "output_type": "execute_result"
    }
   ],
   "source": [
    "import arcpy\n",
    "import os\n",
    "import pandas as pd\n",
    "\n",
    "arcpy.env.overwriteOutput = True\n",
    "\n",
    "\n",
    "main_path = os.path.dirname(os.path.abspath(''))\n",
    "common_datasets_gdb = os.path.join(main_path, r'A1 - Common Datasets\\Common_Datasets.gdb')\n",
    "main_path"
   ]
  },
  {
   "cell_type": "code",
   "execution_count": 3,
   "metadata": {},
   "outputs": [],
   "source": [
    "# Input PSI data from VDOT\n",
    "segment_psi_source = f\"{main_path}\\\\A1 - Common Datasets\\\\Roadway Safety\\\\data\\\\SEG_PSI_OIPI.csv\"\n",
    "intersection_psi_source = f\"{main_path}\\\\A1 - Common Datasets\\\\Roadway Safety\\\\data\\\\INT_PSI_OIPI.csv\"\n",
    "\n",
    "# Path for CSVs that will only contain VTrans needs\n",
    "segment_psi_csv = f\"{main_path}\\\\A1 - Common Datasets\\\\Roadway Safety\\\\data\\\\SEG_PSI_OIPI_vtransNeed.csv\"\n",
    "intersection_psi_csv = f\"{main_path}\\\\A1 - Common Datasets\\\\Roadway Safety\\\\data\\\\INT_PSI_OIPI_vtransNeed.csv\"\n",
    "\n",
    "# Only include records that are a VTrans need\n",
    "df_segment_psi = pd.read_csv(segment_psi_source)\n",
    "df_segment_psi_vtrans = df_segment_psi.loc[df_segment_psi['TIER'] == 'VTrans']\n",
    "df_segment_psi_vtrans.to_csv(segment_psi_csv, index=False)\n",
    "del df_segment_psi\n",
    "\n",
    "df_intersection_psi = pd.read_csv(intersection_psi_source)\n",
    "df_intersection_psi_vtrans = df_intersection_psi.loc[df_intersection_psi['TIER'] == 'VTrans']\n",
    "df_intersection_psi_vtrans.to_csv(intersection_psi_csv, index=False)\n",
    "del df_intersection_psi\n",
    "\n",
    "\n",
    "# Database paths\n",
    "intermediate_gdb = f\"{main_path}\\\\A1 - Common Datasets\\\\Roadway Safety\\\\data\\\\intermediate.gdb\"\n",
    "output_gdb = f\"{main_path}\\\\A1 - Common Datasets\\\\Roadway Safety\\\\data\\\\output.gdb\"\n",
    "\n",
    "# Create gdbs if do not exist\n",
    "for gdb_path in [intermediate_gdb, output_gdb]:\n",
    "    if os.path.exists(os.path.dirname(gdb_path)):\n",
    "        if not os.path.exists(gdb_path):\n",
    "            arcpy.management.CreateFileGDB(os.path.dirname(gdb_path), os.path.basename(gdb_path))\n",
    "    else:\n",
    "        raise Exception(f'Path for GDB does not exist: \\n{os.path.dirname(gdb_path)}')\n",
    "\n",
    "\n",
    "# Overlap LRS\n",
    "lrs = f'{common_datasets_gdb}\\\\SDE_VDOT_RTE_OVERLAP_LRS_DY'\n",
    "master_lrs = f'{common_datasets_gdb}\\\\SDE_VDOT_RTE_MASTER_LRS_DY'\n",
    "\n",
    "def make_path(gdb_path, filename):\n",
    "    return os.path.join(gdb_path, filename)\n",
    "\n",
    "# CoSS\n",
    "CoSS = f'{common_datasets_gdb}\\\\tbl_coss_2023'"
   ]
  },
  {
   "cell_type": "code",
   "execution_count": 4,
   "metadata": {},
   "outputs": [],
   "source": [
    "# Create event layer for intersection PSIs using a 150' buffer\n",
    "intersection_psi_points = make_path(intermediate_gdb, 'intersection_psi_points')\n",
    "intersection_psi_buffer = make_path(intermediate_gdb, 'intersection_psi_buffer')\n",
    "arcpy.XYTableToPoint_management(intersection_psi_csv, intersection_psi_points, 'LON', 'LAT', coordinate_system=arcpy.SpatialReference(4326))\n",
    "arcpy.PairwiseBuffer_analysis(intersection_psi_points, intersection_psi_buffer, '150 FEET', 'ALL')\n",
    "\n",
    "# Clip LRS to buffer\n",
    "lrs_clip = make_path(intermediate_gdb, 'lrs_clip')\n",
    "arcpy.PairwiseClip_analysis(master_lrs, intersection_psi_buffer, lrs_clip)\n",
    "\n",
    "# Explode LRS Clip to remove multipart segments\n",
    "lrs_clip_explode = make_path(intermediate_gdb, 'lrs_clip_explode')\n",
    "arcpy.management.MultipartToSinglepart(lrs_clip, lrs_clip_explode)\n",
    "\n",
    "# Get begin and end points for LRS Clip\n",
    "mp_fields = ['BEGIN_MSR', 'END_MSR']\n",
    "for field in mp_fields:\n",
    "    if field not in [field.name for field in arcpy.ListFields(lrs_clip_explode)]:\n",
    "        arcpy.AddField_management(lrs_clip_explode, field, 'DOUBLE')\n",
    "\n",
    "with arcpy.da.UpdateCursor(lrs_clip_explode, ['BEGIN_MSR', 'END_MSR', 'SHAPE@']) as cur:\n",
    "    for row in cur:\n",
    "        geom = row[-1]\n",
    "        begin_msr = geom.firstPoint.M\n",
    "        end_msr = geom.lastPoint.M\n",
    "        row[0] = begin_msr\n",
    "        row[1] = end_msr\n",
    "        cur.updateRow(row)"
   ]
  },
  {
   "cell_type": "code",
   "execution_count": 5,
   "metadata": {},
   "outputs": [],
   "source": [
    "# Routes not included in the intersection PSI should not be included in the event table.  The clip will include all routes within the buffer.lrs_clip\n",
    "# This step will create an event table as well as remove routes that should not be included.\n",
    "\n",
    "# Get list of routes in intersection PSI\n",
    "psi_routes = []\n",
    "with arcpy.da.SearchCursor(intersection_psi_points, 'RTE_NAME') as cur:\n",
    "    for row in cur:\n",
    "        routes = row[0].split(';')\n",
    "        for route in routes:\n",
    "            if route not in psi_routes:\n",
    "                psi_routes.append(route)\n",
    "\n",
    "# Make intersection psi needs event table in pandas\n",
    "fields = ['RTE_NM', 'BEGIN_MSR', 'END_MSR']\n",
    "df_intersection_psi = pd.DataFrame([row for row in arcpy.da.SearchCursor(lrs_clip_explode, fields)], columns=fields)\n",
    "\n",
    "# Only include routes in psi_routes list\n",
    "df_intersection_psi = df_intersection_psi.loc[df_intersection_psi['RTE_NM'].isin(psi_routes)]"
   ]
  },
  {
   "cell_type": "markdown",
   "metadata": {},
   "source": [
    "#### Create final safety segments event table ####"
   ]
  },
  {
   "cell_type": "code",
   "execution_count": 6,
   "metadata": {},
   "outputs": [
    {
     "data": {
      "text/html": [
       "<div class='gpresult'><h2>Messages</h2><div id='messages' data-messages='[\"Start Time: Monday, December 11, 2023 10:17:12 AM\",\"Succeeded at Monday, December 11, 2023 10:17:33 AM (Elapsed Time: 20.92 seconds)\"]' data-show='true'><div id = 'default' /></div></div>"
      ],
      "text/plain": [
       "<Result 'c:\\\\Users\\\\daniel.fourquet\\\\Documents\\\\Tasks\\\\VTrans Update\\\\2023-needs\\\\A1 - Common Datasets\\\\Roadway Safety\\\\data\\\\output.gdb\\\\safety_segment'>"
      ]
     },
     "execution_count": 6,
     "metadata": {},
     "output_type": "execute_result"
    }
   ],
   "source": [
    "# Create dataframe containing all safety segment needs\n",
    "df_safety_segment = df_segment_psi_vtrans.copy()\n",
    "df_safety_segment.rename(columns={'BEGIN_MP': 'BEGIN_MSR', 'END_MP': 'END_MSR'}, inplace=True)\n",
    "\n",
    "# Reduce dataframe to only fields required\n",
    "fields = ['RTE_NM', 'BEGIN_MSR', 'END_MSR', 'DIRECTION']\n",
    "df_safety_segment = df_safety_segment[fields]\n",
    "\n",
    "\n",
    "\n",
    "# # Add opposite side on routes that are combined direction\n",
    "# df_get_nonprime_segments = df_safety_segment.loc[df_safety_segment['DIRECTION'] == 'Combined-Direction']\n",
    "\n",
    "# # Make opposite route dictionary\n",
    "# df_opposite_route_dict = pd.DataFrame([row for row in arcpy.da.SearchCursor(lrs, ['RTE_NM', 'RTE_OPPOSITE_DIRECTION_RTE_NM'])], columns=['RTE_NM', 'RTE_OPPOSITE_DIRECTION_RTE_NM'])\n",
    "# df_get_nonprime_segments = df_get_nonprime_segments.merge(df_opposite_route_dict, on='RTE_NM')\n",
    "\n",
    "# # Modify to match schema of df_safety_segment dataframe and append\n",
    "# df_get_nonprime_segments = df_get_nonprime_segments.loc[df_get_nonprime_segments['RTE_OPPOSITE_DIRECTION_RTE_NM'].notnull()]\n",
    "# df_get_nonprime_segments = df_get_nonprime_segments[['RTE_OPPOSITE_DIRECTION_RTE_NM', 'BEGIN_MSR', 'END_MSR', 'DIRECTION']].rename(columns={'RTE_OPPOSITE_DIRECTION_RTE_NM': 'RTE_NM'})\n",
    "# df_safety_segment = df_safety_segment.append(df_get_nonprime_segments)\n",
    "\n",
    "# Remove direction field\n",
    "# df_safety_segment.drop('DIRECTION', axis=1, inplace=True)\n",
    "\n",
    "# All of these records have safety segment need\n",
    "df_safety_segment['Safety_Segments'] = 'YES'\n",
    "df_safety_segment['CoSS_Safety_Segments'] = 'NO'  # Will identify in a later step\n",
    "\n",
    "# Make final event table\n",
    "safety_segment_csv = os.path.join(os.path.dirname(intermediate_gdb), 'df_safety_segment.csv')\n",
    "df_safety_segment.to_csv(safety_segment_csv, index=False)\n",
    "arcpy.TableToTable_conversion(safety_segment_csv, intermediate_gdb, 'tbl_safety_segment')\n",
    "\n",
    "# Overlap with CoSS\n",
    "output_table = os.path.join(output_gdb, 'tbl_safety_segment')\n",
    "arcpy.lr.OverlayRouteEvents(os.path.join(intermediate_gdb, 'tbl_safety_segment'), 'RTE_NM LINE BEGIN_MSR END_MSR', CoSS, 'RTE_NM LINE BEGIN_MSR END_MSR', 'UNION', output_table, 'RTE_NM LINE BEGIN_MSR END_MSR', zero_length_events='NO_ZERO')\n",
    "\n",
    "# Delete all records where RN Safety Segments do not exist\n",
    "with arcpy.da.UpdateCursor(output_table, 'Safety_Segments') as cur:\n",
    "    for row in cur:\n",
    "        if row[0] == '':\n",
    "            cur.deleteRow()\n",
    "\n",
    "# Mark overlaps with CoSS with CoSS Need\n",
    "with arcpy.da.UpdateCursor(output_table, ['COSS', 'CoSS_Safety_Segments']) as cur:\n",
    "    for row in cur:\n",
    "        if row[0] == 1:\n",
    "            row[1] = 'YES'\n",
    "        else:\n",
    "            row[1] = 'NO'\n",
    "        cur.updateRow(row)\n",
    "\n",
    "# Delete null values\n",
    "\n",
    "# Make route event layer\n",
    "arcpy.lr.MakeRouteEventLayer(lrs, \"RTE_NM\", output_table, \"RTE_NM; Line; BEGIN_MSR; END_MSR\", \"safety_segment Events\", None, \"NO_ERROR_FIELD\", \"NO_ANGLE_FIELD\", \"NORMAL\", \"ANGLE\", \"LEFT\", \"POINT\")\n",
    "arcpy.conversion.FeatureClassToFeatureClass(\"safety_segment Events\", output_gdb, \"safety_segment\")"
   ]
  },
  {
   "cell_type": "markdown",
   "metadata": {},
   "source": [
    "#### Create final safety intersections event table ####"
   ]
  },
  {
   "cell_type": "code",
   "execution_count": 9,
   "metadata": {},
   "outputs": [
    {
     "data": {
      "text/html": [
       "<div class='gpresult'><h2>Messages</h2><div id='messages' data-messages='[\"Start Time: Friday, November 17, 2023 2:36:18 PM\",\"Succeeded at Friday, November 17, 2023 2:36:35 PM (Elapsed Time: 17.45 seconds)\"]' data-show='true'><div id = 'default' /></div></div>"
      ],
      "text/plain": [
       "<Result 'C:\\\\Users\\\\daniel.fourquet\\\\Documents\\\\Tasks\\\\VTrans Update\\\\Mid-Term Needs\\\\Roadway Safety\\\\data\\\\output.gdb\\\\safety_intersections'>"
      ]
     },
     "execution_count": 9,
     "metadata": {},
     "output_type": "execute_result"
    }
   ],
   "source": [
    "# Create dataframe containing all safety intersection needs\n",
    "df_safety_intersections = df_intersection_psi.copy()\n",
    "\n",
    "# # Add opposite side routes\n",
    "# # Reuse opposite route dictionary created above (df_opposite_route_dict)\n",
    "# df_get_nonprime_intersections = df_safety_intersections.copy()  #  Opposite route needs to be found on all segments\n",
    "# df_get_nonprime_intersections = df_get_nonprime_intersections.merge(df_opposite_route_dict, on='RTE_NM')\n",
    "\n",
    "\n",
    "# # Modify to match schema of df_safety_intersections dataframe and append\n",
    "# df_get_nonprime_intersections = df_get_nonprime_intersections.loc[df_get_nonprime_intersections['RTE_OPPOSITE_DIRECTION_RTE_NM'].notnull()]\n",
    "# df_get_nonprime_intersections = df_get_nonprime_intersections[['RTE_OPPOSITE_DIRECTION_RTE_NM', 'BEGIN_MSR', 'END_MSR']].rename(columns={'RTE_OPPOSITE_DIRECTION_RTE_NM': 'RTE_NM'})\n",
    "# df_safety_intersections = df_safety_intersections.append(df_get_nonprime_intersections)\n",
    "\n",
    "# All of these records have safety segment need\n",
    "df_safety_intersections['Safety_Intersection'] = 'YES'\n",
    "df_safety_intersections['CoSS_Safety_Intersection'] = 'NO'  # Will identify in later step\n",
    "\n",
    "# Make final event table\n",
    "safety_intersections_csv = os.path.join(os.path.dirname(intermediate_gdb), 'df_safety_intersections.csv')\n",
    "df_safety_intersections.to_csv(safety_intersections_csv, index=False)\n",
    "tbl_safety_intersections_predissolve = os.path.join(intermediate_gdb, 'tbl_safety_intersections_predissolve')\n",
    "arcpy.TableToTable_conversion(safety_intersections_csv, intermediate_gdb, 'tbl_safety_intersections_predissolve')\n",
    "\n",
    "# Dissolve table to remove potential overlaps\n",
    "tbl_safety_intersections_dissolve = os.path.join(intermediate_gdb, 'tbl_safety_intersections_dissolve')\n",
    "arcpy.lr.DissolveRouteEvents(tbl_safety_intersections_predissolve, \"RTE_NM; Line; BEGIN_MSR; END_MSR\", \"Safety_Intersection;CoSS_Safety_Intersection\", tbl_safety_intersections_dissolve, \"RTE_NM; Line; BEGIN_MSR; END_MSR\", \"DISSOLVE\", \"INDEX\")\n",
    "\n",
    "# Overlap with CoSS\n",
    "output_table = os.path.join(output_gdb, 'tbl_safety_intersections')\n",
    "arcpy.lr.OverlayRouteEvents(tbl_safety_intersections_dissolve, 'RTE_NM LINE BEGIN_MSR END_MSR', CoSS, 'RTE_NM LINE BEGIN_MSR END_MSR', 'UNION', output_table, 'RTE_NM LINE BEGIN_MSR END_MSR', zero_length_events='NO_ZERO')\n",
    "\n",
    "# Delete all records where RN Safety Segments do not exist\n",
    "with arcpy.da.UpdateCursor(output_table, 'Safety_Intersection') as cur:\n",
    "    for row in cur:\n",
    "        if row[0] == '':\n",
    "            cur.deleteRow()\n",
    "\n",
    "# Mark overlaps with CoSS with CoSS Need\n",
    "with arcpy.da.UpdateCursor(output_table, ['COSS', 'CoSS_Safety_Intersection']) as cur:\n",
    "    for row in cur:\n",
    "        if row[0] == 1:\n",
    "            row[1] = 'YES'\n",
    "        else:\n",
    "            row[1] = 'NO'\n",
    "        cur.updateRow(row)\n",
    "\n",
    "# Make route event layer\n",
    "arcpy.lr.MakeRouteEventLayer(lrs, \"RTE_NM\", output_table, \"RTE_NM; Line; BEGIN_MSR; END_MSR\", \"safety_intersection Events\", None, \"NO_ERROR_FIELD\", \"NO_ANGLE_FIELD\", \"NORMAL\", \"ANGLE\", \"LEFT\", \"POINT\")\n",
    "arcpy.conversion.FeatureClassToFeatureClass(\"safety_intersection Events\", output_gdb, \"safety_intersections\")"
   ]
  },
  {
   "cell_type": "code",
   "execution_count": null,
   "metadata": {},
   "outputs": [],
   "source": []
  }
 ],
 "metadata": {
  "kernelspec": {
   "display_name": "Python 3.7.11 64-bit ('arcgispro-py3')",
   "language": "python",
   "name": "python3"
  },
  "language_info": {
   "codemirror_mode": {
    "name": "ipython",
    "version": 3
   },
   "file_extension": ".py",
   "mimetype": "text/x-python",
   "name": "python",
   "nbconvert_exporter": "python",
   "pygments_lexer": "ipython3",
   "version": "3.7.11"
  },
  "orig_nbformat": 4,
  "vscode": {
   "interpreter": {
    "hash": "ce21b655b4d6c9e397d5ad93d5666c623f49909f6d0cc2f72076dafcf1b3ecfb"
   }
  }
 },
 "nbformat": 4,
 "nbformat_minor": 2
}
