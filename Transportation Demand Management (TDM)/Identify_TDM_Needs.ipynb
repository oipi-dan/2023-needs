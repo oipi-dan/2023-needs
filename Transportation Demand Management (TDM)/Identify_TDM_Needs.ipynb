{
 "cells": [
  {
   "cell_type": "markdown",
   "metadata": {},
   "source": [
    "# Need Category: Transportation Demand Management (TDM) #\n",
    "\n",
    "**Measure**: TDM Needs utilizing VTrans Travel Markets, Roadway Functional Classiication, and Roadway Access Management.\n",
    "\n",
    "**What it means**: Locations where Transportation Demand Management (TDM) strategies can be beneficial to reduce vehicle miles traveled.\n",
    "\n",
    "**Applicable VTrans Travel Markets**: CoSS, RN\n",
    "\n",
    "**Data Sources**:\n",
    "1. VDOT - Overlap LRS\n",
    "2. VDOT - Functional Classification\n",
    "\n",
    "**Year of analysis**: 2023"
   ]
  },
  {
   "cell_type": "markdown",
   "metadata": {},
   "source": [
    "### Calculations ###\n",
    "1. Identify roadway segments by VTrans Travel Markets and facility type within Regional Networks or along CoSS\n",
    "2. Categorize the following roads as qualifying for designation as a TDM need:\n",
    "    * Facilities on CoSS: These roads have a need whose solution may be new or expanded park and ride facilities, rail and public transportation services and passenger facilities, and expansion and coordination of commuter assistance programs services.\n",
    "    * Non-limited access facilities within Regional Networks: These roads have a need whose solution may be new or expanded shared mobility solutions.\n",
    "3. **Threshold for VTrans Mid-term Need for Transportation Demand Management**:\n",
    "    * Roadway segments along CoSS facilities are identified as those with a VTrans Mid-term Need for Transportation Demand Management for new or expanded park and ride facilities, rail and public transportation services and passenger facilities, and expansion and coordination of commuter assistance programs services.\n",
    "    * Roadway segments along non-limited access facilities within Regional Networks (but not also along CoSS) are identified as those with a VTrans Mid-term Need for Transportation Demand Management for new or expanded shared mobility solutions."
   ]
  },
  {
   "cell_type": "markdown",
   "metadata": {},
   "source": [
    "### Code ###"
   ]
  },
  {
   "cell_type": "code",
   "execution_count": 1,
   "metadata": {},
   "outputs": [],
   "source": [
    "import arcpy\n",
    "import os\n",
    "import pandas as pd\n",
    "\n",
    "arcpy.env.overwriteOutput = True\n",
    "\n",
    "\n",
    "main_path = os.path.dirname(os.path.dirname(os.path.abspath(__file__)))\n",
    "common_datasets_gdb = os.path.join(main_path, r'A1 - Common Datasets\\Common_Datasets.gdb')"
   ]
  },
  {
   "cell_type": "markdown",
   "metadata": {},
   "source": [
    "#### Prepare Data Sources ####\n",
    "1. lrs - Overlap LRS\n",
    "2. tbl_coss - CoSS Event Table\n",
    "3. tbl_rn - RN Event Table\n",
    "4. tbl_la - Limited Access Event Table\n",
    "5. tbl_fc - Functional Classification Event Table"
   ]
  },
  {
   "cell_type": "code",
   "execution_count": 2,
   "metadata": {},
   "outputs": [],
   "source": [
    "intermediate_gdb = f\"{main_path}\\\\A1 - Common Datasets\\\\Transportation Demand Management (TDM)\\\\data\\\\intermediate.gdb\"\n",
    "output_gdb = f\"{main_path}\\\\A1 - Common Datasets\\\\Transportation Demand Management (TDM)\\\\data\\\\output.gdb\"\n",
    "for gdb in [intermediate_gdb, output_gdb]:\n",
    "    if not os.path.exists(gdb):\n",
    "        print(f'Creating gdb {os.path.basename(gdb)}')\n",
    "        arcpy.CreateFileGDB_management(os.path.dirname(gdb), os.path.basename(gdb))\n",
    "\n",
    "lrs = f'{common_datasets_gdb}\\\\SDE_VDOT_RTE_OVERLAP_LRS_DY'\n",
    "\n",
    "tbl_coss = f'{common_datasets_gdb}\\\\tbl_coss_2023'\n",
    "\n",
    "tbl_rn = f'{common_datasets_gdb}\\\\tbl_regional_networks'\n",
    "\n",
    "tbl_la = f'{common_datasets_gdb}\\\\tbl_limited_access'\n",
    "\n",
    "tbl_fc = f'{common_datasets_gdb}\\\\tbl_fc23'\n"
   ]
  },
  {
   "cell_type": "markdown",
   "metadata": {},
   "source": []
  },
  {
   "cell_type": "markdown",
   "metadata": {},
   "source": [
    "1. Combine event tables for CoSS, RN, and LA and limit them to FC greater than Local.\n",
    "2. Calculate needs as follows:\n",
    "    * Transportation Demand Management - Park and Ride (CoSS) [CoSS_TDM_PR] - CoSS Limited Access, CoSS Non-Limited Access\n",
    "    * Transportation Demand Management - Commuter Assistance (CoSS) [CoSS_TDM_CA] - CoSS Limited Access, CoSS Non-Limited Access\n",
    "    * Transportation Demand Management - Transit Infrastructure (CoSS) [CoSS_TDM_Transit] - CoSS Limited Access, CoSS Non-Limited Access\n",
    "    * Need - Transportation Demand Management - Shared Mobility (RN) [RN_TDM_Shared_Mobility] - RN Non-Limited Access, non-CoSS"
   ]
  },
  {
   "cell_type": "code",
   "execution_count": 3,
   "metadata": {},
   "outputs": [
    {
     "data": {
      "text/html": [
       "<div class='gpresult'><h2>Messages</h2><div id='messages' data-messages='[\"Start Time: Tuesday, November 21, 2023 2:52:57 PM\",\"Succeeded at Tuesday, November 21, 2023 2:53:16 PM (Elapsed Time: 19.44 seconds)\"]' data-show='true'><div id = 'default' /></div></div>"
      ],
      "text/plain": [
       "<Result 'C:\\\\Users\\\\daniel.fourquet\\\\Documents\\\\Tasks\\\\VTrans Update\\\\Mid-Term Needs\\\\Transportation Demand Management (TDM)\\\\data\\\\intermediate.gdb\\\\tbl_coss_rn_la_fc'>"
      ]
     },
     "execution_count": 3,
     "metadata": {},
     "output_type": "execute_result"
    }
   ],
   "source": [
    "# Overlap all event tables\n",
    "tbl_coss_rn = os.path.join(intermediate_gdb, 'tbl_coss_rn')\n",
    "arcpy.lr.OverlayRouteEvents(tbl_coss, 'RTE_NM LINE BEGIN_MSR END_MSR', tbl_rn, 'RTE_NM LINE BEGIN_MSR END_MSR', 'UNION', tbl_coss_rn, 'RTE_NM LINE BEGIN_MSR END_MSR', zero_length_events='NO_ZERO')\n",
    "\n",
    "tbl_coss_rn_la = os.path.join(intermediate_gdb, 'tbl_coss_rn_la')\n",
    "arcpy.lr.OverlayRouteEvents(tbl_coss_rn, 'RTE_NM LINE BEGIN_MSR END_MSR', tbl_la, 'RTE_NM LINE RTE_FROM_MSR RTE_TO_MSR', 'UNION', tbl_coss_rn_la, 'RTE_NM LINE BEGIN_MSR END_MSR', zero_length_events='NO_ZERO')\n",
    "\n",
    "tbl_coss_rn_la_fc = os.path.join(intermediate_gdb, 'tbl_coss_rn_la_fc')\n",
    "arcpy.lr.OverlayRouteEvents(tbl_coss_rn_la, 'RTE_NM LINE BEGIN_MSR END_MSR', tbl_fc, 'RTE_NM LINE BEGIN_MSR END_MSR', 'UNION', tbl_coss_rn_la_fc, 'RTE_NM LINE BEGIN_MSR END_MSR', zero_length_events='NO_ZERO')\n"
   ]
  },
  {
   "cell_type": "code",
   "execution_count": 4,
   "metadata": {},
   "outputs": [],
   "source": [
    "# Convert to DataFrame\n",
    "fields_to_keep = ['RTE_NM', 'BEGIN_MSR', 'END_MSR', 'COSS', 'RN', 'RIM_ACCESS_CONTROL_DSC', 'STATE_FUNCT_CLASS_ID']\n",
    "df = pd.DataFrame([row for row in arcpy.da.SearchCursor(tbl_coss_rn_la_fc, fields_to_keep)], columns=fields_to_keep)\n",
    "\n",
    "# Create cleaner limited access column\n",
    "df['LA'] = 0\n",
    "df.loc[df['RIM_ACCESS_CONTROL_DSC'].str.startswith('1-Full'), 'LA'] = 1\n",
    "df.drop('RIM_ACCESS_CONTROL_DSC', axis=1)\n",
    "\n",
    "# Rename functional classification column\n",
    "df.rename(columns={'STATE_FUNCT_CLASS_ID': 'FC'}, inplace=True)\n",
    "\n",
    "\n",
    "# Add needs columns\n",
    "# Need - Transportation Demand Management (Limited Access CoSS)\n",
    "df['CoSS_LA_TDM'] = 'NO'\n",
    "df.loc[(df['COSS'] == 1) & (df['LA'] == 1), 'CoSS_LA_TDM'] = 'YES'\n",
    "\n",
    "# Need - Transportation Demand Management (non-limited Access CoSS)\n",
    "df['CoSS_non_LA_TDM'] = 'NO'\n",
    "df.loc[(df['COSS'] == 1) & (df['LA'] == 0), 'CoSS_non_LA_TDM'] = 'YES'\n",
    "\n",
    "# Need - Transportation Demand Management (Limited Access RN)\n",
    "df['RN_LA_TDM'] = 'NO'\n",
    "df.loc[(df['RN'] == 1) & (df['FC'].isin([2,3,4,5,6]) & df['LA'] == 1), 'RN_LA_TDM'] = 'YES'\n",
    "\n",
    "# Need - Transportation Demand Management (Non-Limited Access RN)\n",
    "df['RN_non_LA_TDM'] = 'NO'\n",
    "df.loc[(df['COSS'] == 0) & (df['RN'] == 1) & (df['FC'].isin([2,3,4,5,6]) & (df['LA'] == 0)), 'RN_non_LA_TDM'] = 'YES'\n",
    "\n",
    "# Retain only records where one of the four need fields == 'YES'\n",
    "df = df.loc[(df['CoSS_LA_TDM'] == 'YES') | (df['CoSS_non_LA_TDM'] == 'YES') | (df['RN_LA_TDM'] == 'YES') | (df['RN_non_LA_TDM'] == 'YES')]\n",
    "\n",
    "# Clean DataFrame\n",
    "fields_to_keep = [\n",
    "    'RTE_NM',\n",
    "    'BEGIN_MSR',\n",
    "    'END_MSR',\n",
    "    'CoSS_LA_TDM',\n",
    "    'CoSS_non_LA_TDM',\n",
    "    'RN_LA_TDM',\n",
    "    'RN_non_LA_TDM'\n",
    "    ]\n",
    "\n",
    "df = df[fields_to_keep]"
   ]
  },
  {
   "cell_type": "markdown",
   "metadata": {},
   "source": [
    "#### Create output event table and layer ####"
   ]
  },
  {
   "cell_type": "code",
   "execution_count": 5,
   "metadata": {},
   "outputs": [
    {
     "data": {
      "text/html": [
       "<div class='gpresult'><h2>Messages</h2><div id='messages' data-messages='[\"Start Time: Tuesday, November 21, 2023 2:53:22 PM\",\"Succeeded at Tuesday, November 21, 2023 2:54:12 PM (Elapsed Time: 49.41 seconds)\"]' data-show='true'><div id = 'default' /></div></div>"
      ],
      "text/plain": [
       "<Result 'C:\\\\Users\\\\daniel.fourquet\\\\Documents\\\\Tasks\\\\VTrans Update\\\\Mid-Term Needs\\\\Transportation Demand Management (TDM)\\\\data\\\\output.gdb\\\\Transportation_Demand_Management'>"
      ]
     },
     "execution_count": 5,
     "metadata": {},
     "output_type": "execute_result"
    }
   ],
   "source": [
    "output_csv = os.path.join(os.path.dirname(output_gdb), 'output.csv')\n",
    "df.to_csv(output_csv, index=False)\n",
    "\n",
    "# Make gdb event table\n",
    "arcpy.TableToTable_conversion(output_csv, output_gdb, 'tbl_tdm_needs')\n",
    "\n",
    "# Make route event layer\n",
    "arcpy.lr.MakeRouteEventLayer(lrs, \"RTE_NM\", output_csv, \"RTE_NM; Line; BEGIN_MSR; END_MSR\", \"tbl_tdm_needs Events\", None, \"NO_ERROR_FIELD\", \"NO_ANGLE_FIELD\", \"NORMAL\", \"ANGLE\", \"LEFT\", \"POINT\")\n",
    "arcpy.conversion.FeatureClassToFeatureClass(\"tbl_tdm_needs Events\", output_gdb, \"Transportation_Demand_Management\")"
   ]
  }
 ],
 "metadata": {
  "kernelspec": {
   "display_name": "Python 3.7.11 64-bit ('arcgispro-py3')",
   "language": "python",
   "name": "python3"
  },
  "language_info": {
   "codemirror_mode": {
    "name": "ipython",
    "version": 3
   },
   "file_extension": ".py",
   "mimetype": "text/x-python",
   "name": "python",
   "nbconvert_exporter": "python",
   "pygments_lexer": "ipython3",
   "version": "3.7.11"
  },
  "orig_nbformat": 4,
  "vscode": {
   "interpreter": {
    "hash": "ce21b655b4d6c9e397d5ad93d5666c623f49909f6d0cc2f72076dafcf1b3ecfb"
   }
  }
 },
 "nbformat": 4,
 "nbformat_minor": 2
}
