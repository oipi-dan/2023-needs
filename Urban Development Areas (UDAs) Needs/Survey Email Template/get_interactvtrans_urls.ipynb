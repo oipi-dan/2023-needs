{
 "cells": [
  {
   "cell_type": "code",
   "execution_count": 26,
   "metadata": {},
   "outputs": [],
   "source": [
    "import arcpy\n",
    "import pandas as pd\n",
    "from difflib import get_close_matches\n",
    "import pickle\n",
    "\n",
    "lyr_jurisdictions = r'C:\\Users\\daniel.fourquet\\Documents\\ArcGIS\\Basemap Layers\\basemap.gdb\\all_jurisdictions'\n",
    "contacts_list = r'C:\\Users\\daniel.fourquet\\Documents\\Tasks\\VTrans Update\\Mid-Term Needs\\Urban Development Areas (UDAs) Needs\\Survey Email Template\\UDA_Contacts (2).xlsx'"
   ]
  },
  {
   "cell_type": "code",
   "execution_count": 10,
   "metadata": {},
   "outputs": [],
   "source": [
    "# Get coordinates for each jurisdiction in the state\n",
    "\n",
    "arcpy.env.overwriteOutput = True\n",
    "lyr_jurisdictions_prj = r'C:\\Users\\daniel.fourquet\\Documents\\ArcGIS\\Basemap Layers\\basemap.gdb\\all_jurisdictions_prj'\n",
    "arcpy.Project_management(lyr_jurisdictions, lyr_jurisdictions_prj, arcpy.SpatialReference(4326))\n",
    "jurisdiction_coords = {row[0]: row[1] for row in arcpy.da.SearchCursor(lyr_jurisdictions_prj, ['NAMELSAD', 'SHAPE@XY'])}"
   ]
  },
  {
   "cell_type": "code",
   "execution_count": 27,
   "metadata": {},
   "outputs": [],
   "source": [
    "# Lookup coordinates for each UDA jurisdiction\n",
    "df = pd.read_excel(contacts_list)\n",
    "uda_jurisdictions = df['Jurisdiction'].unique()\n",
    "uda_jurisdictions = list(uda_jurisdictions)\n",
    "\n",
    "uda_jurisdiction_match = {}\n",
    "for juris in uda_jurisdictions:\n",
    "    match = get_close_matches(juris, jurisdiction_coords, n=1, cutoff=0.25)[0]\n",
    "    uda_jurisdiction_match[juris] = match\n",
    "\n",
    "# Known error fix\n",
    "uda_jurisdiction_match['Town of Luray'] = 'Page County'\n",
    "\n",
    "# Build URL\n",
    "uda_jurisdiction_urls = {}\n",
    "for juris in uda_jurisdictions:\n",
    "    match = uda_jurisdiction_match[juris]\n",
    "    lng, lat = jurisdiction_coords[match]\n",
    "    url = f'https://vtrans.org/interactvtrans/map-explorer?layer=Urban%20Development%20Areas&field=Jurisdiction&center={lng}%2C{lat}&zoom=11'\n",
    "    uda_jurisdiction_urls[juris] = url\n",
    "\n",
    "# Save coords\n",
    "with open('urls.pkl', 'wb') as file:\n",
    "    pickle.dump(uda_jurisdiction_urls, file)"
   ]
  },
  {
   "cell_type": "code",
   "execution_count": 29,
   "metadata": {},
   "outputs": [
    {
     "data": {
      "text/plain": [
       "'https://vtrans.org/interactvtrans/map-explorer?layer=Urban%20Development%20Areas&field=Jurisdiction&center=-77.58615333266718%2C37.37859609584751&zoom=11'"
      ]
     },
     "execution_count": 29,
     "metadata": {},
     "output_type": "execute_result"
    }
   ],
   "source": [
    "uda_jurisdiction_urls['Chesterfield County']"
   ]
  },
  {
   "cell_type": "code",
   "execution_count": null,
   "metadata": {},
   "outputs": [],
   "source": []
  }
 ],
 "metadata": {
  "kernelspec": {
   "display_name": "Python 3.7.11 64-bit ('arcgispro-py3')",
   "language": "python",
   "name": "python3"
  },
  "language_info": {
   "codemirror_mode": {
    "name": "ipython",
    "version": 3
   },
   "file_extension": ".py",
   "mimetype": "text/x-python",
   "name": "python",
   "nbconvert_exporter": "python",
   "pygments_lexer": "ipython3",
   "version": "3.7.11"
  },
  "orig_nbformat": 4,
  "vscode": {
   "interpreter": {
    "hash": "ce21b655b4d6c9e397d5ad93d5666c623f49909f6d0cc2f72076dafcf1b3ecfb"
   }
  }
 },
 "nbformat": 4,
 "nbformat_minor": 2
}
