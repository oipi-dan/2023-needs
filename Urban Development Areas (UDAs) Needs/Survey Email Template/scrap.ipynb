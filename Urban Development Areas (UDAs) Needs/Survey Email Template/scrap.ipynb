{
 "cells": [
  {
   "cell_type": "code",
   "execution_count": 2,
   "metadata": {},
   "outputs": [],
   "source": [
    "import pandas as pd\n",
    "\n",
    "UDA_Contacts_XLSX = 'UDA_Contacts (2).xlsx'\n",
    "contact_list = pd.read_excel(UDA_Contacts_XLSX)"
   ]
  },
  {
   "cell_type": "code",
   "execution_count": 3,
   "metadata": {},
   "outputs": [
    {
     "data": {
      "text/plain": [
       "87"
      ]
     },
     "execution_count": 3,
     "metadata": {},
     "output_type": "execute_result"
    }
   ],
   "source": [
    "len(contact_list['prime_contact_name_2019'].unique())"
   ]
  },
  {
   "cell_type": "code",
   "execution_count": 4,
   "metadata": {},
   "outputs": [
    {
     "name": "stdout",
     "output_type": "stream",
     "text": [
      "<class 'pandas.core.frame.DataFrame'>\n",
      "RangeIndex: 232 entries, 0 to 231\n",
      "Data columns (total 11 columns):\n",
      " #   Column                    Non-Null Count  Dtype \n",
      "---  ------                    --------------  ----- \n",
      " 0   District                  232 non-null    object\n",
      " 1   UDA_NM                    228 non-null    object\n",
      " 2   Jurisdiction              232 non-null    object\n",
      " 3   PDC                       230 non-null    object\n",
      " 4   MPO                       171 non-null    object\n",
      " 5   prime_contact_name_2019   228 non-null    object\n",
      " 6   prime_contact_email_2019  221 non-null    object\n",
      " 7   prime_contact_phone_2019  194 non-null    object\n",
      " 8   sec_contact_name_2019     198 non-null    object\n",
      " 9   sec_contact_email_2019    197 non-null    object\n",
      " 10  sec_contact_phone_2019    176 non-null    object\n",
      "dtypes: object(11)\n",
      "memory usage: 20.1+ KB\n"
     ]
    }
   ],
   "source": [
    "contact_list.info()"
   ]
  },
  {
   "cell_type": "code",
   "execution_count": 5,
   "metadata": {},
   "outputs": [],
   "source": [
    "contact_list['prime_secondary'] = contact_list['prime_contact_name_2019'] + contact_list['sec_contact_name_2019']\n",
    "contact_list[['District', 'Jurisdiction','prime_contact_name_2019','sec_contact_name_2019','prime_secondary']].to_csv('scrap.csv', index=False)"
   ]
  },
  {
   "cell_type": "code",
   "execution_count": 14,
   "metadata": {},
   "outputs": [],
   "source": [
    "prime_contacts = contact_list['prime_contact_name_2019'].unique().tolist()\n",
    "contact = prime_contacts[0]\n"
   ]
  },
  {
   "cell_type": "code",
   "execution_count": 27,
   "metadata": {},
   "outputs": [
    {
     "data": {
      "text/plain": [
       "'rwalsh@townofwise.org'"
      ]
     },
     "execution_count": 27,
     "metadata": {},
     "output_type": "execute_result"
    }
   ],
   "source": [
    "contact_list.loc[contact_list['prime_contact_name_2019'] == contact, 'prime_contact_email_2019'].unique()[0]"
   ]
  },
  {
   "cell_type": "code",
   "execution_count": 30,
   "metadata": {},
   "outputs": [
    {
     "data": {
      "text/plain": [
       "'this;is;a;list'"
      ]
     },
     "execution_count": 30,
     "metadata": {},
     "output_type": "execute_result"
    }
   ],
   "source": [
    "l = ['this', 'is', 'a', 'list']\n",
    "';'.join(l)"
   ]
  }
 ],
 "metadata": {
  "kernelspec": {
   "display_name": "Python 3.7.11 64-bit ('arcgispro-py3')",
   "language": "python",
   "name": "python3"
  },
  "language_info": {
   "codemirror_mode": {
    "name": "ipython",
    "version": 3
   },
   "file_extension": ".py",
   "mimetype": "text/x-python",
   "name": "python",
   "nbconvert_exporter": "python",
   "pygments_lexer": "ipython3",
   "version": "3.7.11"
  },
  "orig_nbformat": 4,
  "vscode": {
   "interpreter": {
    "hash": "ce21b655b4d6c9e397d5ad93d5666c623f49909f6d0cc2f72076dafcf1b3ecfb"
   }
  }
 },
 "nbformat": 4,
 "nbformat_minor": 2
}
